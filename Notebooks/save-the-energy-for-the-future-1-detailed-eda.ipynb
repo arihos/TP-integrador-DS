{
 "cells": [
  {
   "cell_type": "markdown",
   "metadata": {},
   "source": [
    "![image](https://www.technotification.com/wp-content/uploads/2018/09/Renewable-Energy-Ideas.jpg)\n",
    "\n",
    "Image source: [technotification](https://www.technotification.com/2018/09/amazing-renewable-energy-ideas.html)\n",
    "\n",
    "This notebook aims to predict a building's energy consumption over 2017 and 2018 using the data from 2016 in 4 different consumpiton categories (electricity, chilled water, steam, hot water) using ASHRAE data, which is our problem statement as well.\n",
    "\n",
    "This is a *supervised machine learning model*, meaning based on the columns available in the datasets and data from 2016, we are going to train the model to predict an energy consumption of a building in each category. Since, consumption values are labeled as `meter_reading` and they are continuous, we are going to apply *regression techniques* to generate predictions on meter_reading. \n",
    "\n",
    "It is a highly debated and popular competition in Kaggle currently, however my main motivation is to contribute to make energy-efficient buildings by estimating its energy consumption. It seemed like a good start to save our energy for future!\n",
    "\n",
    "There will be 3 notebooks covering the complete machine learning building pipeline. \n",
    "\n",
    "This notebook will focus on parts 1 and 2 and provide information about the datasets with a detailed EDA.\n",
    "\n",
    "**1) Understand, Cleand and Format Data**\n",
    "\n",
    "**2) Exploratory Data Analysis**\n",
    "\n",
    "3) Feature Engineering & Selection\n",
    "\n",
    "4) Compare Several Machine Learning Models\n",
    "\n",
    "5) Perform Hyperparameter Tuning and Cross Validation\n",
    "\n",
    "6) Evaluate Model with Test Data\n",
    "\n",
    "7) Interpret Model Results\n",
    "\n",
    "8) Submissions & Summary & Conclusions\n",
    "\n",
    "* [Notebook 2](https://www.kaggle.com/cereniyim/save-the-energy-for-the-future-2-fe-lightgbm) will cover 3, 4 and 5 be focusing on building the optimal machine learning model.\n",
    "* [Notebook 3](https://www.kaggle.com/cereniyim/save-the-energy-for-the-future-3-predictions) will cover 6, 7 and 8 be focusing on generating the predictions with the best model and summary for the whole project.\n",
    "\n",
    "Machine Learning application and building is not a linear and one time process. Steps above enable me to follow a structured way for an end-to-end machine project flow and preparation for the each step ahead. All in all, steps might be modified or revisited according to findings. You can use the table of contents to navigate to each section and visual 👇\n",
    "\n",
    "Enjoy reading !"
   ]
  },
  {
   "cell_type": "markdown",
   "metadata": {},
   "source": [
    "# <a id='top'> Table of Contents </a>\n",
    "- <a href='#1'> 1. Undserstand, Clean and Format Data </a>\n",
    "  - <a href='#1-1'> 1.1. Load data into dataframes </a>\n",
    "  - <a href='#1-2'> 1.2. Reduce the memory size </a>\n",
    "  - <a href='#1-3'> 1.3. Information about the training datasets </a>\n",
    "    - <a href='#1-3-1'> 1.3.1. Building dataset </a>\n",
    "    - <a href='#1-3-2'> 1.3.2. Weather_train dataset </a>\n",
    "    - <a href='#1-3-3'> 1.3.3. Train dataset </a>\n",
    "  - <a href='#1-4'> 1.4. Information about the test datasets </a>\n",
    "    - <a href='#1-4-1'> 1.4.1 Test dataset </a>\n",
    "    - <a href='#1-4-2'> 1.4.2 Weather_test </a>\n",
    "  - <a href='#1-5'> 1.5. Findings from Understand, Clean, Format Data </a>\n",
    "\n",
    "\n",
    "- <a href='#2'> 2. Exploratory Data Analysis </a>\n",
    "  - <a href='#2-1'> 2.1. Distribution of meter reading </a>\n",
    "    - <a href='#2-1-1'> 2.1.1. Consolidated distribution of meter reading </a>\n",
    "    - <a href='#2-1-2'> 2.1.2. Consolidated distribution of positive meter reading values </a>\n",
    "    - <a href='#2-1-3'> 2.1.3. Distribution of meter reading among different meter categories </a>\n",
    "    - <a href='#2-1-4'> 2.1.4. Distribution of positive meter reading values among different meter categories </a>\n",
    "    - <a href='#2-1-5'> 2.1.5. Average daily meter reading values over 2016 </a>\n",
    "  - <a href='#2-2'> 2.2. Meter reading VS weather_train data </a>\n",
    "    - <a href='#2-2-1'> 2.2.1. Prepare & merge dataframes </a>\n",
    "    - <a href='#2-2-2'> 2.2.2. Average daily weather variable values over 2016 </a>\n",
    "    - <a href='#2-2-3'> 2.2.3. Pairplot of meter reading vs weather data </a>\n",
    "  - <a href='#2-3'> 2.3. Meter reading VS building data categorical features </a>\n",
    "    - <a href='#2-3-1'> 2.3.1. Prepare & merge dataframes </a>\n",
    "    - <a href='#2-3-2'> 2.3.2. Meter reading distribution among primary uses </a>\n",
    "    - <a href='#2-3-3'> 2.3.3. Meter reading distribution among site id as violinplot </a>\n",
    "  - <a href='#2-4'> 2.4. Meter reading VS building data continuous features as scatterplots </a>\n",
    "    - <a href='#2-4-1'> 2.4.1. Scatter plot of meter reading VS square feet </a>\n",
    "    - <a href='#2-4-2'> 2.4.2. Scatter plot of meter reading VS age of the building </a>\n",
    "    - <a href='#2-4-3'> 2.4.3. Scatter plot of meter reading VS floor count </a> \n",
    "  - <a href='#2-5'> 2.5. Findings from exploratory data analysis </a>\n",
    "\n",
    "\n",
    "- <a href='#3'> Conclusions </a>"
   ]
  },
  {
   "cell_type": "markdown",
   "metadata": {},
   "source": [
    "**Imports**:\n",
    "<br> I will use numpy and pandas for data munging and manipulation. For the visualizations I will discover some [plotly](https://plot.ly/python/) in this project and create interactive visuals where possible. <br/>"
   ]
  },
  {
   "cell_type": "code",
   "execution_count": 9,
   "metadata": {
    "_cell_guid": "b1076dfc-b9ad-4769-8c92-a6c4dae69d19",
    "_uuid": "8f2839f25d086af736a60e9eeb907d3b93b6e0e5"
   },
   "outputs": [
    {
     "data": {
      "text/html": [
       "        <script type=\"text/javascript\">\n",
       "        window.PlotlyConfig = {MathJaxConfig: 'local'};\n",
       "        if (window.MathJax) {MathJax.Hub.Config({SVG: {font: \"STIX-Web\"}});}\n",
       "        if (typeof require !== 'undefined') {\n",
       "        require.undef(\"plotly\");\n",
       "        requirejs.config({\n",
       "            paths: {\n",
       "                'plotly': ['https://cdn.plot.ly/plotly-latest.min']\n",
       "            }\n",
       "        });\n",
       "        require(['plotly'], function(Plotly) {\n",
       "            window._Plotly = Plotly;\n",
       "        });\n",
       "        }\n",
       "        </script>\n",
       "        "
      ]
     },
     "metadata": {},
     "output_type": "display_data"
    },
    {
     "name": "stdout",
     "output_type": "stream",
     "text": [
      "../Data/ashrae-energy-prediction\\ashrae-energy-prediction.zip\n",
      "../Data/ashrae-energy-prediction\\building_metadata.csv\n",
      "../Data/ashrae-energy-prediction\\sample_submission.csv\n",
      "../Data/ashrae-energy-prediction\\test.csv\n",
      "../Data/ashrae-energy-prediction\\train.csv\n",
      "../Data/ashrae-energy-prediction\\weather_test.csv\n",
      "../Data/ashrae-energy-prediction\\weather_train.csv\n"
     ]
    }
   ],
   "source": [
    "# for data manipulation\n",
    "import numpy as np \n",
    "import pandas as pd \n",
    "import pandas_profiling as pp\n",
    "pd.set_option('display.max_columns', 50)\n",
    "pd.set_option('display.float_format', lambda x: '%.3f' % x)\n",
    "\n",
    "# for date manipulation\n",
    "from datetime import datetime\n",
    "\n",
    "# for visualization: matplotlib\n",
    "from matplotlib import pyplot as plt\n",
    "from IPython.core.pylabtools import figsize\n",
    "%matplotlib inline\n",
    "# to display visuals in the notebook\n",
    "\n",
    "# for visualization: seaborn\n",
    "import seaborn as sns\n",
    "sns.set_context(font_scale=2)\n",
    "\n",
    "# for visualization: plotly\n",
    "import plotly.offline as py\n",
    "py.init_notebook_mode(connected=True)\n",
    "import plotly.graph_objects as go\n",
    "import plotly.express as px\n",
    "import plotly.figure_factory as ff\n",
    "from plotly.subplots import make_subplots\n",
    "from plotly.offline import iplot\n",
    "\n",
    "# to cleanup memory usage\n",
    "import gc\n",
    "\n",
    "# Input data files are available in the \"../input/\" directory.\n",
    "# For example, running this (by clicking run or pressing Shift+Enter) will list all files under the input directory\n",
    "\n",
    "import os\n",
    "for dirname, _, filenames in os.walk('../Data/ashrae-energy-prediction'):\n",
    "    for filename in filenames:\n",
    "        print(os.path.join(dirname, filename))\n",
    "\n",
    "# Any results you write to the current directory are saved as output."
   ]
  },
  {
   "cell_type": "markdown",
   "metadata": {
    "_cell_guid": "79c7e3d0-c299-4dcb-8224-4455121ee9b0",
    "_uuid": "d629ff2d2480ee46fbb7e2d37f6b5fab8052498a"
   },
   "source": [
    "# <a id='1'> 1. Understand, Clean and Format Data </a>\n",
    "<a href='#top'>Back to top </a>"
   ]
  },
  {
   "cell_type": "markdown",
   "metadata": {},
   "source": [
    "Very first observation is training and test data spans in 5 different csv files. If you look at the [data tab of the competition](https://www.kaggle.com/c/ashrae-energy-prediction/data) you will see that:\n",
    "- `train.csv`, `test.csv`, `weather_train.csv` and `weather_test.csv` are time-series data, with hourly measurements.\n",
    "- `building_metadata.csv` contains the characteristics of a building such as:\n",
    "  - site id of the building\n",
    "  - primary use\n",
    "  - square feet\n",
    "  - year built\n",
    "- In the weather datasets, there are features related to wind, clouds, temperature and pressure.\n",
    "- Weather_train dataset measured from 1 Jan, 2016 to 1 Jan, 2017.\n",
    "- Weather_test dataset spans from 1 Jan, 2017 to 1, Jan 2019. \n",
    "\n",
    "So using 1 year data we are going to predict following 2 years energy consumption of a building.\n",
    "\n",
    "\n",
    "Looking at the `test_csv`and `samplele_submissions.csv`, predictions will be based on:\n",
    "- building_id\n",
    "- meter (energy consumption category)\n",
    "- timestamp"
   ]
  },
  {
   "cell_type": "markdown",
   "metadata": {},
   "source": [
    "## <a id='1-1'> 1.1. Load data into dataframes </a>\n",
    "<a href='#top'>Back to top </a>"
   ]
  },
  {
   "cell_type": "markdown",
   "metadata": {},
   "source": [
    "Time series data will be loaded by parsing `timestamp`column to enabling timestamp column to be formatted as datetime data type and as index."
   ]
  },
  {
   "cell_type": "code",
   "execution_count": 10,
   "metadata": {},
   "outputs": [],
   "source": [
    "# path\n",
    "path = \"../Data/ashrae-energy-prediction\"\n",
    "\n",
    "# train  data\n",
    "building = pd.read_csv(path + \"/building_metadata.csv\")\n",
    "weather_train = pd.read_csv(path + \"/weather_train.csv\", \n",
    "                            index_col=1, parse_dates = True)\n",
    "train = pd.read_csv( path + \"/train.csv\", \n",
    "                    index_col=2, parse_dates = True)"
   ]
  },
  {
   "cell_type": "code",
   "execution_count": 11,
   "metadata": {},
   "outputs": [
    {
     "name": "stdout",
     "output_type": "stream",
     "text": [
      "Size of the building dataset is (1449, 6)\n",
      "Size of the weather_train dataset is (139773, 8)\n",
      "Size of the train dataset is (20216100, 3)\n"
     ]
    }
   ],
   "source": [
    "# look at the number of rows and columns\n",
    "print('Size of the building dataset is', building.shape)\n",
    "print('Size of the weather_train dataset is', weather_train.shape)\n",
    "print('Size of the train dataset is', train.shape)"
   ]
  },
  {
   "cell_type": "code",
   "execution_count": 12,
   "metadata": {},
   "outputs": [],
   "source": [
    "# test data\n",
    "weather_test = pd.read_csv(path + \"/weather_test.csv\", \n",
    "                           index_col=1, parse_dates = True)\n",
    "test = pd.read_csv(path + \"/test.csv\", \n",
    "                   index_col=3, parse_dates = True)\n",
    "# submission data\n",
    "sample_submission = pd.read_csv( path + \"/sample_submission.csv\")"
   ]
  },
  {
   "cell_type": "code",
   "execution_count": 13,
   "metadata": {},
   "outputs": [
    {
     "name": "stdout",
     "output_type": "stream",
     "text": [
      "Size of the weather_test dataset is (277243, 8)\n",
      "Size of the test dataset is (41697600, 3)\n",
      "Size of the sample_submission is (41697600, 2)\n"
     ]
    }
   ],
   "source": [
    "# look at the number of rows and columns\n",
    "print('Size of the weather_test dataset is', weather_test.shape)\n",
    "print('Size of the test dataset is', test.shape)\n",
    "print('Size of the sample_submission is', sample_submission.shape)"
   ]
  },
  {
   "cell_type": "code",
   "execution_count": 14,
   "metadata": {
    "_kg_hide-input": true,
    "_kg_hide-output": true
   },
   "outputs": [
    {
     "data": {
      "text/plain": [
       "64"
      ]
     },
     "execution_count": 14,
     "metadata": {},
     "output_type": "execute_result"
    }
   ],
   "source": [
    "del sample_submission\n",
    "gc.collect()"
   ]
  },
  {
   "cell_type": "markdown",
   "metadata": {},
   "source": [
    "We are dealing with some big datasets here (20 and 40 million rows). We have 41 million rows to predict with the built model. \n",
    "\n",
    "To save some space from the memory, I am going to delete unused dataframes and use a function built as part of this [popular notebook](https://www.kaggle.com/caesarlupum/ashrae-start-here-a-gentle-introduction#2.-Imports-) to reduce the memory size use of the datasets."
   ]
  },
  {
   "cell_type": "markdown",
   "metadata": {},
   "source": [
    "## <a id='1-2'> 1.2. Reduce the memory size </a>\n",
    "<a href='#top'>Back to top </a>"
   ]
  },
  {
   "cell_type": "markdown",
   "metadata": {},
   "source": [
    "This function converts data types in such a way that, they allocate less space in the memory. Then, reports the size of the reduction."
   ]
  },
  {
   "cell_type": "code",
   "execution_count": 15,
   "metadata": {},
   "outputs": [],
   "source": [
    "## Function to reduce the DF size\n",
    "def reduce_memory_usage(df, verbose=True):\n",
    "    numerics = ['int16', 'int32', 'int64', 'float16', 'float32', 'float64']\n",
    "    start_mem = df.memory_usage().sum() / 1024**2    \n",
    "    for col in df.columns:\n",
    "        col_type = df[col].dtypes\n",
    "        if col_type in numerics:\n",
    "            c_min = df[col].min()\n",
    "            c_max = df[col].max()\n",
    "            if str(col_type)[:3] == 'int':\n",
    "                if c_min > np.iinfo(np.int8).min and c_max < np.iinfo(np.int8).max:\n",
    "                    df[col] = df[col].astype(np.int8)\n",
    "                elif c_min > np.iinfo(np.int16).min and c_max < np.iinfo(np.int16).max:\n",
    "                    df[col] = df[col].astype(np.int16)\n",
    "                elif c_min > np.iinfo(np.int32).min and c_max < np.iinfo(np.int32).max:\n",
    "                    df[col] = df[col].astype(np.int32)\n",
    "                elif c_min > np.iinfo(np.int64).min and c_max < np.iinfo(np.int64).max:\n",
    "                    df[col] = df[col].astype(np.int64)  \n",
    "            else:\n",
    "                if c_min > np.finfo(np.float16).min and c_max < np.finfo(np.float16).max:\n",
    "                    df[col] = df[col].astype(np.float16)\n",
    "                elif c_min > np.finfo(np.float32).min and c_max < np.finfo(np.float32).max:\n",
    "                    df[col] = df[col].astype(np.float32)\n",
    "                else:\n",
    "                    df[col] = df[col].astype(np.float64)    \n",
    "    end_mem = df.memory_usage().sum() / 1024**2\n",
    "    if verbose: print('Mem. usage decreased to {:5.2f} Mb ({:.1f}% reduction)'.format(end_mem, 100 * (start_mem - end_mem) / start_mem))\n",
    "    return df"
   ]
  },
  {
   "cell_type": "code",
   "execution_count": 16,
   "metadata": {},
   "outputs": [
    {
     "name": "stdout",
     "output_type": "stream",
     "text": [
      "Mem. usage decreased to  0.03 Mb (60.3% reduction)\n",
      "Mem. usage decreased to  3.07 Mb (68.1% reduction)\n",
      "Mem. usage decreased to 289.19 Mb (53.1% reduction)\n",
      "Mem. usage decreased to  6.08 Mb (68.1% reduction)\n",
      "Mem. usage decreased to 596.49 Mb (53.1% reduction)\n"
     ]
    },
    {
     "data": {
      "text/html": [
       "<div>\n",
       "<style scoped>\n",
       "    .dataframe tbody tr th:only-of-type {\n",
       "        vertical-align: middle;\n",
       "    }\n",
       "\n",
       "    .dataframe tbody tr th {\n",
       "        vertical-align: top;\n",
       "    }\n",
       "\n",
       "    .dataframe thead th {\n",
       "        text-align: right;\n",
       "    }\n",
       "</style>\n",
       "<table border=\"1\" class=\"dataframe\">\n",
       "  <thead>\n",
       "    <tr style=\"text-align: right;\">\n",
       "      <th></th>\n",
       "      <th>row_id</th>\n",
       "      <th>building_id</th>\n",
       "      <th>meter</th>\n",
       "    </tr>\n",
       "    <tr>\n",
       "      <th>timestamp</th>\n",
       "      <th></th>\n",
       "      <th></th>\n",
       "      <th></th>\n",
       "    </tr>\n",
       "  </thead>\n",
       "  <tbody>\n",
       "    <tr>\n",
       "      <th>2017-01-01 00:00:00</th>\n",
       "      <td>0</td>\n",
       "      <td>0</td>\n",
       "      <td>0</td>\n",
       "    </tr>\n",
       "    <tr>\n",
       "      <th>2017-01-01 00:00:00</th>\n",
       "      <td>1</td>\n",
       "      <td>1</td>\n",
       "      <td>0</td>\n",
       "    </tr>\n",
       "    <tr>\n",
       "      <th>2017-01-01 00:00:00</th>\n",
       "      <td>2</td>\n",
       "      <td>2</td>\n",
       "      <td>0</td>\n",
       "    </tr>\n",
       "    <tr>\n",
       "      <th>2017-01-01 00:00:00</th>\n",
       "      <td>3</td>\n",
       "      <td>3</td>\n",
       "      <td>0</td>\n",
       "    </tr>\n",
       "    <tr>\n",
       "      <th>2017-01-01 00:00:00</th>\n",
       "      <td>4</td>\n",
       "      <td>4</td>\n",
       "      <td>0</td>\n",
       "    </tr>\n",
       "    <tr>\n",
       "      <th>...</th>\n",
       "      <td>...</td>\n",
       "      <td>...</td>\n",
       "      <td>...</td>\n",
       "    </tr>\n",
       "    <tr>\n",
       "      <th>2018-05-09 07:00:00</th>\n",
       "      <td>41697595</td>\n",
       "      <td>1444</td>\n",
       "      <td>0</td>\n",
       "    </tr>\n",
       "    <tr>\n",
       "      <th>2018-05-09 07:00:00</th>\n",
       "      <td>41697596</td>\n",
       "      <td>1445</td>\n",
       "      <td>0</td>\n",
       "    </tr>\n",
       "    <tr>\n",
       "      <th>2018-05-09 07:00:00</th>\n",
       "      <td>41697597</td>\n",
       "      <td>1446</td>\n",
       "      <td>0</td>\n",
       "    </tr>\n",
       "    <tr>\n",
       "      <th>2018-05-09 07:00:00</th>\n",
       "      <td>41697598</td>\n",
       "      <td>1447</td>\n",
       "      <td>0</td>\n",
       "    </tr>\n",
       "    <tr>\n",
       "      <th>2018-05-09 07:00:00</th>\n",
       "      <td>41697599</td>\n",
       "      <td>1448</td>\n",
       "      <td>0</td>\n",
       "    </tr>\n",
       "  </tbody>\n",
       "</table>\n",
       "<p>41697600 rows × 3 columns</p>\n",
       "</div>"
      ],
      "text/plain": [
       "                       row_id  building_id  meter\n",
       "timestamp                                        \n",
       "2017-01-01 00:00:00         0            0      0\n",
       "2017-01-01 00:00:00         1            1      0\n",
       "2017-01-01 00:00:00         2            2      0\n",
       "2017-01-01 00:00:00         3            3      0\n",
       "2017-01-01 00:00:00         4            4      0\n",
       "...                       ...          ...    ...\n",
       "2018-05-09 07:00:00  41697595         1444      0\n",
       "2018-05-09 07:00:00  41697596         1445      0\n",
       "2018-05-09 07:00:00  41697597         1446      0\n",
       "2018-05-09 07:00:00  41697598         1447      0\n",
       "2018-05-09 07:00:00  41697599         1448      0\n",
       "\n",
       "[41697600 rows x 3 columns]"
      ]
     },
     "execution_count": 16,
     "metadata": {},
     "output_type": "execute_result"
    }
   ],
   "source": [
    "reduce_memory_usage(building)\n",
    "reduce_memory_usage(weather_train)\n",
    "reduce_memory_usage(train)\n",
    "\n",
    "reduce_memory_usage(weather_test)\n",
    "reduce_memory_usage(test)"
   ]
  },
  {
   "cell_type": "markdown",
   "metadata": {},
   "source": [
    "## <a id='1-3'> 1.3. Information about the training datasets </a>\n",
    "<a href='#top'>Back to top </a>"
   ]
  },
  {
   "cell_type": "markdown",
   "metadata": {},
   "source": [
    "Since there are 3 csv files, I will use pandas_profiling to get the quick glance of the data for the datasets with less than 1 million rows. \n",
    "\n",
    "Pandas_profiling is a great library to display information about \n",
    "* Essentials\n",
    "* Quantile statistics\n",
    "* Descriptive statistics\n",
    "* Most frequent values\n",
    "* Histogram\n",
    "* Correlations (even rejects a column if a collinear correlation is found) \n",
    "<br> and provides a Sample consisting of first and last rows. </br> \n",
    "\n",
    "The further details about the dataset can be observed by clicking on each tab and Toggle Details buttons per column.\n",
    "\n",
    "The best part of the pandas profiling: It delivers whole bunch of information with just one line of code! If you want to dive deeper into pandas_profiling, you can check their [GitHub page](https://pandas-profiling.github.io/pandas-profiling/docs/)."
   ]
  },
  {
   "cell_type": "markdown",
   "metadata": {},
   "source": [
    "### <a id='1-3-1'> 1.3.1. Building dataset <a/>\n",
    "<a href='#top'>Back to top</a>"
   ]
  },
  {
   "cell_type": "code",
   "execution_count": 18,
   "metadata": {},
   "outputs": [
    {
     "ename": "TypeError",
     "evalue": "concat() got an unexpected keyword argument 'join_axes'",
     "output_type": "error",
     "traceback": [
      "\u001b[1;31m---------------------------------------------------------------------------\u001b[0m",
      "\u001b[1;31mTypeError\u001b[0m                                 Traceback (most recent call last)",
      "\u001b[1;32m<ipython-input-18-bc1b8d522d71>\u001b[0m in \u001b[0;36m<module>\u001b[1;34m\u001b[0m\n\u001b[1;32m----> 1\u001b[1;33m \u001b[0mpp\u001b[0m\u001b[1;33m.\u001b[0m\u001b[0mProfileReport\u001b[0m\u001b[1;33m(\u001b[0m\u001b[0mbuilding\u001b[0m\u001b[1;33m)\u001b[0m\u001b[1;33m\u001b[0m\u001b[1;33m\u001b[0m\u001b[0m\n\u001b[0m",
      "\u001b[1;32m~\\anaconda3\\envs\\dhdsblend\\lib\\site-packages\\pandas_profiling\\__init__.py\u001b[0m in \u001b[0;36m__init__\u001b[1;34m(self, df, **kwargs)\u001b[0m\n\u001b[0;32m     64\u001b[0m         \u001b[0msample\u001b[0m \u001b[1;33m=\u001b[0m \u001b[0mkwargs\u001b[0m\u001b[1;33m.\u001b[0m\u001b[0mget\u001b[0m\u001b[1;33m(\u001b[0m\u001b[1;34m'sample'\u001b[0m\u001b[1;33m,\u001b[0m \u001b[0mdf\u001b[0m\u001b[1;33m.\u001b[0m\u001b[0mhead\u001b[0m\u001b[1;33m(\u001b[0m\u001b[1;33m)\u001b[0m\u001b[1;33m)\u001b[0m\u001b[1;33m\u001b[0m\u001b[1;33m\u001b[0m\u001b[0m\n\u001b[0;32m     65\u001b[0m \u001b[1;33m\u001b[0m\u001b[0m\n\u001b[1;32m---> 66\u001b[1;33m         \u001b[0mdescription_set\u001b[0m \u001b[1;33m=\u001b[0m \u001b[0mdescribe\u001b[0m\u001b[1;33m(\u001b[0m\u001b[0mdf\u001b[0m\u001b[1;33m,\u001b[0m \u001b[1;33m**\u001b[0m\u001b[0mkwargs\u001b[0m\u001b[1;33m)\u001b[0m\u001b[1;33m\u001b[0m\u001b[1;33m\u001b[0m\u001b[0m\n\u001b[0m\u001b[0;32m     67\u001b[0m \u001b[1;33m\u001b[0m\u001b[0m\n\u001b[0;32m     68\u001b[0m         self.html = to_html(sample,\n",
      "\u001b[1;32m~\\anaconda3\\envs\\dhdsblend\\lib\\site-packages\\pandas_profiling\\describe.py\u001b[0m in \u001b[0;36mdescribe\u001b[1;34m(df, bins, check_correlation, correlation_threshold, correlation_overrides, check_recoded, pool_size, **kwargs)\u001b[0m\n\u001b[0;32m    390\u001b[0m             \u001b[1;32mif\u001b[0m \u001b[0mname\u001b[0m \u001b[1;32mnot\u001b[0m \u001b[1;32min\u001b[0m \u001b[0mnames\u001b[0m\u001b[1;33m:\u001b[0m\u001b[1;33m\u001b[0m\u001b[1;33m\u001b[0m\u001b[0m\n\u001b[0;32m    391\u001b[0m                 \u001b[0mnames\u001b[0m\u001b[1;33m.\u001b[0m\u001b[0mappend\u001b[0m\u001b[1;33m(\u001b[0m\u001b[0mname\u001b[0m\u001b[1;33m)\u001b[0m\u001b[1;33m\u001b[0m\u001b[1;33m\u001b[0m\u001b[0m\n\u001b[1;32m--> 392\u001b[1;33m     \u001b[0mvariable_stats\u001b[0m \u001b[1;33m=\u001b[0m \u001b[0mpd\u001b[0m\u001b[1;33m.\u001b[0m\u001b[0mconcat\u001b[0m\u001b[1;33m(\u001b[0m\u001b[0mldesc\u001b[0m\u001b[1;33m,\u001b[0m \u001b[0mjoin_axes\u001b[0m\u001b[1;33m=\u001b[0m\u001b[0mpd\u001b[0m\u001b[1;33m.\u001b[0m\u001b[0mIndex\u001b[0m\u001b[1;33m(\u001b[0m\u001b[1;33m[\u001b[0m\u001b[0mnames\u001b[0m\u001b[1;33m]\u001b[0m\u001b[1;33m)\u001b[0m\u001b[1;33m,\u001b[0m \u001b[0maxis\u001b[0m\u001b[1;33m=\u001b[0m\u001b[1;36m1\u001b[0m\u001b[1;33m)\u001b[0m\u001b[1;33m\u001b[0m\u001b[1;33m\u001b[0m\u001b[0m\n\u001b[0m\u001b[0;32m    393\u001b[0m     \u001b[0mvariable_stats\u001b[0m\u001b[1;33m.\u001b[0m\u001b[0mcolumns\u001b[0m\u001b[1;33m.\u001b[0m\u001b[0mnames\u001b[0m \u001b[1;33m=\u001b[0m \u001b[0mdf\u001b[0m\u001b[1;33m.\u001b[0m\u001b[0mcolumns\u001b[0m\u001b[1;33m.\u001b[0m\u001b[0mnames\u001b[0m\u001b[1;33m\u001b[0m\u001b[1;33m\u001b[0m\u001b[0m\n\u001b[0;32m    394\u001b[0m \u001b[1;33m\u001b[0m\u001b[0m\n",
      "\u001b[1;31mTypeError\u001b[0m: concat() got an unexpected keyword argument 'join_axes'"
     ]
    }
   ],
   "source": [
    "pp.ProfileReport(building)"
   ]
  },
  {
   "cell_type": "markdown",
   "metadata": {},
   "source": [
    "**Summary from the Report:**\n",
    "* `Building_id` is the primary key for this dataset.\n",
    "* Observations coming from 1448 buildings.\n",
    "* `building_id` and `site_id`are collinear features.\n",
    "* More than 50% of the values are missing at columns`floor_count`and `year_built` which easily captured in the first raws of the data.\n",
    "* Except `primary_use`all of the columns are numeric.\n",
    "* `primary_use` column is categorical, most of the values being Education, Office and Public Assembly.\n",
    "* Looking at the `floor_count` histogram, data is gathered mostly from 1 to 5 floor buildings. Whether to keep or drop this column will be decided after looking at how this feature contributes to determining meter_reading.\n",
    "* Looking at the `square_feet` histogram most of the buildings are smaller than 200.000 square feet. There are few extremely large buildings: square feet is more than 800.000 square feet.\n",
    "* We have buildings from every age: 2 year-old buildings to 100-year-old buildings."
   ]
  },
  {
   "cell_type": "code",
   "execution_count": 19,
   "metadata": {},
   "outputs": [
    {
     "data": {
      "text/html": [
       "<div>\n",
       "<style scoped>\n",
       "    .dataframe tbody tr th:only-of-type {\n",
       "        vertical-align: middle;\n",
       "    }\n",
       "\n",
       "    .dataframe tbody tr th {\n",
       "        vertical-align: top;\n",
       "    }\n",
       "\n",
       "    .dataframe thead th {\n",
       "        text-align: right;\n",
       "    }\n",
       "</style>\n",
       "<table border=\"1\" class=\"dataframe\">\n",
       "  <thead>\n",
       "    <tr style=\"text-align: right;\">\n",
       "      <th></th>\n",
       "      <th>site_id</th>\n",
       "      <th>building_id</th>\n",
       "      <th>primary_use</th>\n",
       "      <th>square_feet</th>\n",
       "      <th>year_built</th>\n",
       "      <th>floor_count</th>\n",
       "    </tr>\n",
       "  </thead>\n",
       "  <tbody>\n",
       "    <tr>\n",
       "      <th>269</th>\n",
       "      <td>2</td>\n",
       "      <td>269</td>\n",
       "      <td>Entertainment/public assembly</td>\n",
       "      <td>809530</td>\n",
       "      <td>1958.000</td>\n",
       "      <td>nan</td>\n",
       "    </tr>\n",
       "    <tr>\n",
       "      <th>365</th>\n",
       "      <td>3</td>\n",
       "      <td>365</td>\n",
       "      <td>Healthcare</td>\n",
       "      <td>819577</td>\n",
       "      <td>1922.000</td>\n",
       "      <td>nan</td>\n",
       "    </tr>\n",
       "    <tr>\n",
       "      <th>375</th>\n",
       "      <td>3</td>\n",
       "      <td>375</td>\n",
       "      <td>Office</td>\n",
       "      <td>850354</td>\n",
       "      <td>1989.000</td>\n",
       "      <td>nan</td>\n",
       "    </tr>\n",
       "    <tr>\n",
       "      <th>1148</th>\n",
       "      <td>13</td>\n",
       "      <td>1148</td>\n",
       "      <td>Office</td>\n",
       "      <td>861524</td>\n",
       "      <td>nan</td>\n",
       "      <td>nan</td>\n",
       "    </tr>\n",
       "    <tr>\n",
       "      <th>869</th>\n",
       "      <td>8</td>\n",
       "      <td>869</td>\n",
       "      <td>Entertainment/public assembly</td>\n",
       "      <td>875000</td>\n",
       "      <td>nan</td>\n",
       "      <td>1.000</td>\n",
       "    </tr>\n",
       "  </tbody>\n",
       "</table>\n",
       "</div>"
      ],
      "text/plain": [
       "      site_id  building_id                    primary_use  square_feet  \\\n",
       "269         2          269  Entertainment/public assembly       809530   \n",
       "365         3          365                     Healthcare       819577   \n",
       "375         3          375                         Office       850354   \n",
       "1148       13         1148                         Office       861524   \n",
       "869         8          869  Entertainment/public assembly       875000   \n",
       "\n",
       "      year_built  floor_count  \n",
       "269     1958.000          nan  \n",
       "365     1922.000          nan  \n",
       "375     1989.000          nan  \n",
       "1148         nan          nan  \n",
       "869          nan        1.000  "
      ]
     },
     "execution_count": 19,
     "metadata": {},
     "output_type": "execute_result"
    }
   ],
   "source": [
    "building.sort_values(by=\"square_feet\", ascending=True).tail()"
   ]
  },
  {
   "cell_type": "markdown",
   "metadata": {},
   "source": [
    "Those extremely large buildings that lack year_built or floor_count values and can be named as outliers. I am going to determine how to handle outliers at the end of this notebook."
   ]
  },
  {
   "cell_type": "markdown",
   "metadata": {},
   "source": [
    "### <a id='1-3-2'> 1.3.2. Weather_train dataset <a/>\n",
    "<a href='#top'>Back to top</a>"
   ]
  },
  {
   "cell_type": "code",
   "execution_count": 20,
   "metadata": {},
   "outputs": [
    {
     "ename": "TypeError",
     "evalue": "concat() got an unexpected keyword argument 'join_axes'",
     "output_type": "error",
     "traceback": [
      "\u001b[1;31m---------------------------------------------------------------------------\u001b[0m",
      "\u001b[1;31mTypeError\u001b[0m                                 Traceback (most recent call last)",
      "\u001b[1;32m<ipython-input-20-e37e4caf9fa6>\u001b[0m in \u001b[0;36m<module>\u001b[1;34m\u001b[0m\n\u001b[1;32m----> 1\u001b[1;33m \u001b[0mpp\u001b[0m\u001b[1;33m.\u001b[0m\u001b[0mProfileReport\u001b[0m\u001b[1;33m(\u001b[0m\u001b[0mweather_train\u001b[0m\u001b[1;33m)\u001b[0m\u001b[1;33m\u001b[0m\u001b[1;33m\u001b[0m\u001b[0m\n\u001b[0m",
      "\u001b[1;32m~\\anaconda3\\envs\\dhdsblend\\lib\\site-packages\\pandas_profiling\\__init__.py\u001b[0m in \u001b[0;36m__init__\u001b[1;34m(self, df, **kwargs)\u001b[0m\n\u001b[0;32m     64\u001b[0m         \u001b[0msample\u001b[0m \u001b[1;33m=\u001b[0m \u001b[0mkwargs\u001b[0m\u001b[1;33m.\u001b[0m\u001b[0mget\u001b[0m\u001b[1;33m(\u001b[0m\u001b[1;34m'sample'\u001b[0m\u001b[1;33m,\u001b[0m \u001b[0mdf\u001b[0m\u001b[1;33m.\u001b[0m\u001b[0mhead\u001b[0m\u001b[1;33m(\u001b[0m\u001b[1;33m)\u001b[0m\u001b[1;33m)\u001b[0m\u001b[1;33m\u001b[0m\u001b[1;33m\u001b[0m\u001b[0m\n\u001b[0;32m     65\u001b[0m \u001b[1;33m\u001b[0m\u001b[0m\n\u001b[1;32m---> 66\u001b[1;33m         \u001b[0mdescription_set\u001b[0m \u001b[1;33m=\u001b[0m \u001b[0mdescribe\u001b[0m\u001b[1;33m(\u001b[0m\u001b[0mdf\u001b[0m\u001b[1;33m,\u001b[0m \u001b[1;33m**\u001b[0m\u001b[0mkwargs\u001b[0m\u001b[1;33m)\u001b[0m\u001b[1;33m\u001b[0m\u001b[1;33m\u001b[0m\u001b[0m\n\u001b[0m\u001b[0;32m     67\u001b[0m \u001b[1;33m\u001b[0m\u001b[0m\n\u001b[0;32m     68\u001b[0m         self.html = to_html(sample,\n",
      "\u001b[1;32m~\\anaconda3\\envs\\dhdsblend\\lib\\site-packages\\pandas_profiling\\describe.py\u001b[0m in \u001b[0;36mdescribe\u001b[1;34m(df, bins, check_correlation, correlation_threshold, correlation_overrides, check_recoded, pool_size, **kwargs)\u001b[0m\n\u001b[0;32m    390\u001b[0m             \u001b[1;32mif\u001b[0m \u001b[0mname\u001b[0m \u001b[1;32mnot\u001b[0m \u001b[1;32min\u001b[0m \u001b[0mnames\u001b[0m\u001b[1;33m:\u001b[0m\u001b[1;33m\u001b[0m\u001b[1;33m\u001b[0m\u001b[0m\n\u001b[0;32m    391\u001b[0m                 \u001b[0mnames\u001b[0m\u001b[1;33m.\u001b[0m\u001b[0mappend\u001b[0m\u001b[1;33m(\u001b[0m\u001b[0mname\u001b[0m\u001b[1;33m)\u001b[0m\u001b[1;33m\u001b[0m\u001b[1;33m\u001b[0m\u001b[0m\n\u001b[1;32m--> 392\u001b[1;33m     \u001b[0mvariable_stats\u001b[0m \u001b[1;33m=\u001b[0m \u001b[0mpd\u001b[0m\u001b[1;33m.\u001b[0m\u001b[0mconcat\u001b[0m\u001b[1;33m(\u001b[0m\u001b[0mldesc\u001b[0m\u001b[1;33m,\u001b[0m \u001b[0mjoin_axes\u001b[0m\u001b[1;33m=\u001b[0m\u001b[0mpd\u001b[0m\u001b[1;33m.\u001b[0m\u001b[0mIndex\u001b[0m\u001b[1;33m(\u001b[0m\u001b[1;33m[\u001b[0m\u001b[0mnames\u001b[0m\u001b[1;33m]\u001b[0m\u001b[1;33m)\u001b[0m\u001b[1;33m,\u001b[0m \u001b[0maxis\u001b[0m\u001b[1;33m=\u001b[0m\u001b[1;36m1\u001b[0m\u001b[1;33m)\u001b[0m\u001b[1;33m\u001b[0m\u001b[1;33m\u001b[0m\u001b[0m\n\u001b[0m\u001b[0;32m    393\u001b[0m     \u001b[0mvariable_stats\u001b[0m\u001b[1;33m.\u001b[0m\u001b[0mcolumns\u001b[0m\u001b[1;33m.\u001b[0m\u001b[0mnames\u001b[0m \u001b[1;33m=\u001b[0m \u001b[0mdf\u001b[0m\u001b[1;33m.\u001b[0m\u001b[0mcolumns\u001b[0m\u001b[1;33m.\u001b[0m\u001b[0mnames\u001b[0m\u001b[1;33m\u001b[0m\u001b[1;33m\u001b[0m\u001b[0m\n\u001b[0;32m    394\u001b[0m \u001b[1;33m\u001b[0m\u001b[0m\n",
      "\u001b[1;31mTypeError\u001b[0m: concat() got an unexpected keyword argument 'join_axes'"
     ]
    }
   ],
   "source": [
    "pp.ProfileReport(weather_train)"
   ]
  },
  {
   "cell_type": "markdown",
   "metadata": {},
   "source": [
    "**Summary from the report:**\n",
    "* Since this is a time-series data, we have much more observations (139.772) than the building dataset.\n",
    "* Except timestamp, all of the features are numeric and in following units and ranges:\n",
    "\n",
    "|   | Feature           | Range                              | Description\n",
    "|---|-------------------|------------------------------------|-------------------------------\n",
    "| 1 | air_temperature   | -28 to 47 Degrees Celsius          | \n",
    "| 2 | cloud_coverage    | 0 to 9 oktas                       | Portion of the sky covered in clouds\n",
    "| 3 | dew_temperature   | -35 to 26 Degrees Celsius          | The temperature at which the air can no longer \"hold\"                                                                  all of the water vapor. The dew temperature is aways                                                                    lower than (or equal to) the air temperature.\n",
    "| 4 | precip_depth_1_hr | -1 to 343 Millimeters              | The amount of rain, snow, hail, etc., that has fallen at                                                                a given place within a given period.\n",
    "| 5 | sea_level_pressure| 968 to 1046 Millibar/hectopascals  | The average atmospheric pressure at mean sea level\n",
    "| 6 | wind_direction    | 0 to 360 degrees                   | Direction that the wind comes\n",
    "| 7 | wind_speed        | 0 to 19 Meters per second          |\n",
    "\n",
    "<br>\n",
    "* We have equal number of samples coming from 16 different sites.\n",
    "* It seems there are some extreme observations in this dataset, which can be observed by clicking toggle details and extreme values tab\n",
    "* `cloud_coverage`, `precip_depth_1_hr`, `sea_level_pressure` and `wind_direction` have significantly high missing values."
   ]
  },
  {
   "cell_type": "markdown",
   "metadata": {},
   "source": [
    "### <a id='1-3-3'> 1.3.3. Train dataset </a>\n",
    "<a href='#top'>Back to top </a>"
   ]
  },
  {
   "cell_type": "markdown",
   "metadata": {},
   "source": [
    "This is the biggest dataset in amongst the training datasets. Thus, pandas_profiling crunches data in higher run-times. I will use handy pandas exploration functions to explore that dataset."
   ]
  },
  {
   "cell_type": "code",
   "execution_count": null,
   "metadata": {},
   "outputs": [],
   "source": [
    "train.info()"
   ]
  },
  {
   "cell_type": "code",
   "execution_count": null,
   "metadata": {},
   "outputs": [],
   "source": [
    "print(\"Percentage of missing values in the train dataset\")\n",
    "train.isna().sum()"
   ]
  },
  {
   "cell_type": "code",
   "execution_count": null,
   "metadata": {},
   "outputs": [],
   "source": [
    "train.describe(include=\"all\")"
   ]
  },
  {
   "cell_type": "markdown",
   "metadata": {},
   "source": [
    "* `meter_reading` is the target that we are trying to predict.\n",
    "* `meter` is the meter category, representing:\n",
    "  * 0: electricity\n",
    "  * 1: chilled water\n",
    "  * 2: steam\n",
    "  * 3: hot water\n",
    "* `meter_reading` values ranges between 0 and 22 million. We are going to take a closer look at the max value and investigate the reasons behind.\n",
    "* We don't have any missing values in the train dataset."
   ]
  },
  {
   "cell_type": "code",
   "execution_count": null,
   "metadata": {},
   "outputs": [],
   "source": [
    "train.head()"
   ]
  },
  {
   "cell_type": "markdown",
   "metadata": {},
   "source": [
    "### <a id='1-4'> 1.4. Information about the test datasets </a>\n",
    "<a href='#top'>Back to top </a>"
   ]
  },
  {
   "cell_type": "markdown",
   "metadata": {},
   "source": [
    "### <a id='1-4-1'> 1.4.1. Test dataset </a>"
   ]
  },
  {
   "cell_type": "code",
   "execution_count": null,
   "metadata": {},
   "outputs": [],
   "source": [
    "test.describe(include=\"all\")"
   ]
  },
  {
   "cell_type": "markdown",
   "metadata": {},
   "source": [
    "### <a id='1-4-2'> 1.4.2 Weather_test </a>\n",
    "<a href='#top'>Back to top </a>"
   ]
  },
  {
   "cell_type": "code",
   "execution_count": null,
   "metadata": {},
   "outputs": [],
   "source": [
    "pp.ProfileReport(weather_test)"
   ]
  },
  {
   "cell_type": "markdown",
   "metadata": {},
   "source": [
    "Weather_test's column values and ranges are consistent with the weather_train's column values and ranges."
   ]
  },
  {
   "cell_type": "code",
   "execution_count": null,
   "metadata": {
    "_kg_hide-input": true,
    "_kg_hide-output": true
   },
   "outputs": [],
   "source": [
    "del weather_test, test\n",
    "gc.collect()"
   ]
  },
  {
   "cell_type": "markdown",
   "metadata": {},
   "source": [
    "## <a id='1-5'> 1.5. Findings from Understand, Clean, Format Data <a/>\n",
    "<a href='#top'>Back to top</a>"
   ]
  },
  {
   "cell_type": "markdown",
   "metadata": {},
   "source": [
    "#### Relationships between tables:\n",
    "- building_id is the primary key of the building dataset.\n",
    "- building_id is the foreign key for the train dataset.\n",
    "- site_id is the foreign key for weather_train dataset.\n",
    "\n",
    "---------------------------------------------------------\n",
    "In total, there are 15 unique columns in all training datasets excluding target column. Those columns are self-explanatory and clear. Excluding timestamp, rest are potential candidates for feature set.\n",
    "\n",
    "`meter_reading` is the target we are trying to predict. `meter_reading` represents energy consumption of a building for a 1-hour period in different meter reading categories.\n",
    "\n",
    "`timestamp` columns are converted to date-time format and seems like measurements are recorded in hourly periods.\n",
    "\n",
    "Although we have missing values and outliers in the training datasets, I will keep them all for now, and decide how to handled them at the end of the notebook.\n",
    "\n",
    "There are nearly 20 million `meter_reading` values in the train dataset which are observed among 1448 buildings between 1 Jan, 2016 and 1 Jan, 2017; most of them being electricity meter observations.\n",
    "\n",
    "There are 40 million `meter_reading`values in the test dataset observed among the same buildings betweeen 1 Jan 2017 and 1 Jan 2019."
   ]
  },
  {
   "cell_type": "markdown",
   "metadata": {},
   "source": [
    "# <a id='2'> 2. Exploratory Data Analysis </a>"
   ]
  },
  {
   "cell_type": "markdown",
   "metadata": {},
   "source": [
    "I will run a detailed exploratory data analysis by visualizing trends, correlations and distributions between target and feature variables. Thanks to the pandas profiling I have already observed the single variable distributions of building and weather_train columns. So, I will start by looking at the high-level distribution of meter reading values."
   ]
  },
  {
   "cell_type": "markdown",
   "metadata": {},
   "source": [
    "## <a id='2-1'> 2.1. Distribution of meter reading </a>"
   ]
  },
  {
   "cell_type": "markdown",
   "metadata": {},
   "source": [
    "Meter reading values will be visualized without any categories, among meter categories and as a time-series data."
   ]
  },
  {
   "cell_type": "markdown",
   "metadata": {},
   "source": [
    "### <a id='2-1-1'> 2.1.1. Consolidated distribution of meter reading </a>\n",
    "<a href='#top'> Back to top </a>"
   ]
  },
  {
   "cell_type": "code",
   "execution_count": null,
   "metadata": {},
   "outputs": [],
   "source": [
    "# set the plot size\n",
    "figsize(12,10)\n",
    "\n",
    "# set the histogram, mean and median\n",
    "sns.distplot(train['meter_reading'],\n",
    "             kde=True)\n",
    "plt.axvline(x=train.meter_reading.mean(), \n",
    "            linewidth=3, color='g', label=\"mean\", alpha=0.5)\n",
    "plt.axvline(x=train.meter_reading.median(), \n",
    "            linewidth=3, color='y', label=\"median\", alpha=0.5)\n",
    "\n",
    "# set title, legends and labels\n",
    "plt.title(\"Distribution of Meter Reading\", size=14)\n",
    "plt.legend([\"mean\", \"median\"])"
   ]
  },
  {
   "cell_type": "markdown",
   "metadata": {},
   "source": [
    "Our very first plot already conveyed some information: Meter reading values are highly skewed.\n",
    "\n",
    "Recall that, meter-reding values range between 0 and 22 million, this picture shows that high percentage of them are gathered around zero. And unfortunately due this high skewness it is impossible to visualize raw meter reading values and draw a histogram. \n",
    "\n",
    "Due to this wide range and highly skewed data the natural log(1 + meter_reading) will be visualized using [np.log1p](https://docs.scipy.org/doc/numpy/reference/generated/numpy.log1p.html). Since the natural logarithm of zero is minus infinity (a real number to the power of some real number is never 0), np.log1p enables to transform 0 measurements to 1, including those in the visualization."
   ]
  },
  {
   "cell_type": "code",
   "execution_count": null,
   "metadata": {},
   "outputs": [],
   "source": [
    "# set the plot size\n",
    "figsize(12,10)\n",
    "\n",
    "# set the histogram, mean and median\n",
    "sns.distplot(np.log1p(train['meter_reading']),\n",
    "             kde=True)\n",
    "plt.axvline(x=np.log1p(train.meter_reading.mean()), \n",
    "            linewidth=3, color='g', label=\"mean\", alpha=0.5)\n",
    "plt.axvline(x=np.log1p(train.meter_reading.median()), \n",
    "            linewidth=3, color='y', label=\"median\", alpha=0.5)\n",
    "\n",
    "# set title, legends and labels\n",
    "plt.title(\"Distribution of Logarithm(Meter Reading + 1) \", size=14)\n",
    "plt.legend([\"mean\", \"median\"])"
   ]
  },
  {
   "cell_type": "markdown",
   "metadata": {},
   "source": [
    "Distribution of logarithm(meter reading + 1) values, regardless of the category, shows a right-skewed distribution. Median value is smaller than the mean value proving this skewness. This skewness is caused by the significanlty high number of 0 and 1 measurements in the `meter_reading`. Let's look at the definition if we can get some logical explanation to 0 measurements:\n",
    "\n",
    "> They are the Energy consumption in kWh (or equivalent). This is the real data with measurement error, which we expect will impose a baseline level of modeling error. \n",
    "\n",
    "Explanation implies this is a real data with some errors, due this error, there may be some missed observations in the `meter_reading`. Thus high number of 0 meter reading values shows not only zero consumption but may indicate some missing data in the `meter_reading`. Moving on with this suspicion, let's see how the distribution will look like if we exclude 0 measurements from the dataset. \n",
    "\n",
    "I think it is impossible for a building to consume 0 kWh energy at a given time. Every office, home at least having some fridges and other home appliances running all the time. \n",
    "\n",
    "Thus, I I will visualize meter reading excluding 0 measurements."
   ]
  },
  {
   "cell_type": "markdown",
   "metadata": {},
   "source": [
    "### <a id='2-1-2'> 2.1.2. Consolidated distribution of positive meter reading values </a>\n",
    "<a href='#top'> Back to top </a>"
   ]
  },
  {
   "cell_type": "code",
   "execution_count": null,
   "metadata": {},
   "outputs": [],
   "source": [
    "# create dataframe excluding 0 measurements of meter_reading and take the natural logarithm\n",
    "# np.log is used this time because we don't have 0 values in the meter_reading\n",
    "positive_train = train[train['meter_reading'] != 0]\n",
    "positive_train['log_meter_reading'] = np.log(positive_train['meter_reading'])"
   ]
  },
  {
   "cell_type": "code",
   "execution_count": null,
   "metadata": {},
   "outputs": [],
   "source": [
    "# set the plot size\n",
    "figsize(12,10)\n",
    "\n",
    "# set the histogram, mean and median\n",
    "sns.distplot(positive_train['log_meter_reading'], \n",
    "             kde=True)\n",
    "plt.axvline(x=positive_train['log_meter_reading'].mean(),\n",
    "            linewidth=3, color='g', label=\"mean\", alpha=0.5)\n",
    "plt.axvline(x=positive_train['log_meter_reading'].median(),\n",
    "            linewidth=3, color='y', label=\"median\", alpha=0.5)\n",
    "\n",
    "# set title, legends and labels\n",
    "plt.title(\"Distribution of Logarithm(Meter Reading) w/o 0 Measurements\", size=14)\n",
    "plt.legend([\"mean\", \"median\"])"
   ]
  },
  {
   "cell_type": "markdown",
   "metadata": {},
   "source": [
    "Now, I have more concrete evidence that 0 observations represents missing values.\n",
    "\n",
    "Moreover, this is the picture I expected to see in the first place. However, after dropping the zero values and taking the logarithm of the meter reading values, distribution shows a perfect normal distribution. Data is centered around the mean. Mean and median values are equal to each other. Taking the logarithm helped to lower the variance.\n",
    "\n",
    "Moreover, some immediately observed outliers for log_meter_reading are around -7 and -5 and greater than 10. Let's have a closer look at the outliers:"
   ]
  },
  {
   "cell_type": "code",
   "execution_count": null,
   "metadata": {},
   "outputs": [],
   "source": [
    "def outlier_function(df, col_name):\n",
    "    ''' this function detects first and third quartile and interquartile range for a given column of a dataframe\n",
    "    then calculates upper and lower limits to determine outliers conservatively\n",
    "    returns the number of lower and uper limit and number of outliers respectively\n",
    "    '''\n",
    "    first_quartile = np.percentile(\n",
    "        np.array(df[col_name].tolist()), 25)\n",
    "    third_quartile = np.percentile(\n",
    "        np.array(df[col_name].tolist()), 75)\n",
    "    IQR = third_quartile - first_quartile\n",
    "                      \n",
    "    upper_limit = third_quartile+(3*IQR)\n",
    "    lower_limit = first_quartile-(3*IQR)\n",
    "    outlier_count = 0\n",
    "                      \n",
    "    for value in df[col_name].tolist():\n",
    "        if (value < lower_limit) | (value > upper_limit):\n",
    "            outlier_count +=1\n",
    "    return lower_limit, upper_limit, outlier_count"
   ]
  },
  {
   "cell_type": "code",
   "execution_count": null,
   "metadata": {},
   "outputs": [],
   "source": [
    "# percentage of outliers in the meter_reading\n",
    "print(\"{} percent of {} are outliers.\"\n",
    "      .format((\n",
    "              (100 * outlier_function(train, 'meter_reading')[2])\n",
    "               / len(train['meter_reading'])),\n",
    "              'meter_reading'))"
   ]
  },
  {
   "cell_type": "code",
   "execution_count": null,
   "metadata": {},
   "outputs": [],
   "source": [
    "train['meter_reading'].sort_values().tail()"
   ]
  },
  {
   "cell_type": "code",
   "execution_count": null,
   "metadata": {},
   "outputs": [],
   "source": [
    "positive_train['meter_reading'].sort_values().head()"
   ]
  },
  {
   "cell_type": "markdown",
   "metadata": {},
   "source": [
    "Although I excluded 0s, there are still plenty of data points which are very close to 0.\n",
    "\n",
    "Out of 20 million observations 8% are detected with the logic of determining [extreme outliers](https://people.richland.edu/james/lecture/m170/ch03-pos.html). We are going to decide what to do with the outliers in the target data at the end of the notebook."
   ]
  },
  {
   "cell_type": "markdown",
   "metadata": {},
   "source": [
    "### <a id='2-1-3'> 2.1.3. Distribution of meter reading among different meter categories </a>\n",
    "<a href='#top'> Back to top </a>"
   ]
  },
  {
   "cell_type": "code",
   "execution_count": null,
   "metadata": {},
   "outputs": [],
   "source": [
    "# distribution of the meter reading in meters without zeros\n",
    "figsize(12,10)\n",
    "\n",
    "#list of different meters\n",
    "meters = sorted(train['meter'].unique().tolist())\n",
    "\n",
    "# plot meter_reading distribution for each meter\n",
    "for meter_type in meters:\n",
    "    subset = train[train['meter'] == meter_type]\n",
    "    sns.kdeplot(np.log1p(subset[\"meter_reading\"]), \n",
    "                label=meter_type, linewidth=2)\n",
    "\n",
    "# set title, legends and labels\n",
    "plt.ylabel(\"Density\")\n",
    "plt.xlabel(\"Meter_reading\")\n",
    "plt.legend(['electricity', 'chilled water', 'steam', 'hot water'])\n",
    "plt.title(\"Density of Logartihm(Meter Reading + 1) Among Different Meters\", size=14)"
   ]
  },
  {
   "cell_type": "markdown",
   "metadata": {},
   "source": [
    "Again for the visualization purposes, we are looking at the distribution of the np.log1p(meter_reading) values. \n",
    "\n",
    "One thing that is obvious is; significant number of observations 0 are coming from hot water, chilled water and steam consumption,meaning we have less missing values and 0 observations in the electricity usage.\n",
    "\n",
    "This picture shows that meter reading values shows different distribution in each meter category, especially electricity consumption is different than others. Thus, meter is a signifcant variable to determine the meter_reading values. It is already included in the train and test dataset as a determinant factor.\n",
    "\n",
    "Let's visualize the meter reading values excluding 0 measurements for different meter categories using the dataset created earlier."
   ]
  },
  {
   "cell_type": "markdown",
   "metadata": {},
   "source": [
    "### <a id='2-1-4'> 2.1.4. Distribution of positive meter reading values among different meter categories </a>\n",
    "<a href='#top'> Back to top </a>"
   ]
  },
  {
   "cell_type": "code",
   "execution_count": null,
   "metadata": {},
   "outputs": [],
   "source": [
    "# distribution of the meter reading in meters without zeros\n",
    "figsize(12,10)\n",
    "\n",
    "# plot meter_reading distribution for each meter\n",
    "for meter_type in meters:\n",
    "    subset = positive_train[positive_train['meter'] == meter_type]\n",
    "    sns.kdeplot(subset[\"log_meter_reading\"], \n",
    "                label=meter_type, linewidth=2)\n",
    "\n",
    "# set title, legends and labels\n",
    "plt.ylabel(\"Density\")\n",
    "plt.xlabel(\"Log_meter_reading\")\n",
    "plt.legend(['electricity', 'chilled water', 'steam', 'hot water'])\n",
    "plt.title(\"Density of Positive Logarithm(Meter Reading) Among Different Meters\", size=14)"
   ]
  },
  {
   "cell_type": "markdown",
   "metadata": {},
   "source": [
    "After dropping the zero values and taking the logarithm of the meter reading values: Electricity shows a slightly different distribution than other categories. Chilled water and steam meter_reading shows similar distributions with close mean values. Hot water has the least number of datapoints and has more spikes than the other categories."
   ]
  },
  {
   "cell_type": "markdown",
   "metadata": {},
   "source": [
    "### <a id='2-1-5'> 2.1.5. Average daily meter reading values over 2016 </a>\n",
    "<a href='#top'>Back to top </a>"
   ]
  },
  {
   "cell_type": "code",
   "execution_count": null,
   "metadata": {},
   "outputs": [],
   "source": [
    "# upsample hourly observations to daily and aggregate by meter category\n",
    "train_daily_avg_by_meter = (train.\n",
    "                            groupby('meter').\n",
    "                            meter_reading.\n",
    "                            resample('d').mean().\n",
    "                            reset_index())"
   ]
  },
  {
   "cell_type": "code",
   "execution_count": null,
   "metadata": {},
   "outputs": [],
   "source": [
    "# assign meter values as column headers to create tidy-form dataframe\n",
    "tidy_train_daily_avg = (train_daily_avg_by_meter.\n",
    "                        pivot(index='timestamp', \n",
    "                              columns='meter', \n",
    "                              values='meter_reading').\n",
    "                        reset_index())"
   ]
  },
  {
   "cell_type": "code",
   "execution_count": null,
   "metadata": {},
   "outputs": [],
   "source": [
    "# rename column header back to meter categories\n",
    "tidy_train_daily_avg.rename(columns = {0: \"electricity\",\n",
    "                                       1: \"chilled_water\",\n",
    "                                       2: \"steam\",\n",
    "                                       3: \"hot_water\"},\n",
    "                           inplace=True)"
   ]
  },
  {
   "cell_type": "markdown",
   "metadata": {},
   "source": [
    "**By clicking on the legend in each category, you can observe meter categories individually.**"
   ]
  },
  {
   "cell_type": "code",
   "execution_count": null,
   "metadata": {},
   "outputs": [],
   "source": [
    "# create meter and color dictionary\n",
    "meter_dict = {'electricity': 'darkblue',\n",
    "              'chilled_water':'orange',\n",
    "              'steam': 'green',\n",
    "              'hot_water': 'red'\n",
    "             }\n",
    "\n",
    "# create figure object and plot each meter category\n",
    "fig = go.Figure()\n",
    "\n",
    "for key in meter_dict:\n",
    "    fig.add_trace(go.Line(\n",
    "        x=tidy_train_daily_avg.timestamp, \n",
    "        y=tidy_train_daily_avg[key], \n",
    "        mode='lines',\n",
    "        name=key,\n",
    "        line_color=meter_dict[key]))\n",
    "\n",
    "# add title and show figure\n",
    "fig.update_layout(\n",
    "    title_text='Average Daily Energy Consumption in kWh',\n",
    "    xaxis_rangeslider_visible=True)\n",
    "fig.show()"
   ]
  },
  {
   "cell_type": "markdown",
   "metadata": {},
   "source": [
    "Electricity observations spread between 0 and 220 kWh. For the first half of the year consumption does not exceed 160 kWh, for the second half consumption increases and ranges between 160 and 220 kWh. In general electricity consumption shows an increasing trend in 2016.\n",
    "\n",
    "Chilled water consumption ranges between 130 - 2500 kWh. It shows a steady increase up to 1000 kWh until September 2016. Between September and October, there are spikes in the consumption causing the range going up to 2500 kWh. Starting from November it shows downward trend.\n",
    "\n",
    "Steam consuption has the highest and most volatile range: 0 - 80.000 kWh. There is no obvious trend in the steam consumption and steam is utilized only in the first half of the year. For the rest of the year, consumption decreases drastically which may indicate either steam is not used for the rest of the year or the errors (0 measurements) are coming from the steam category in the second half of 2016. There is an interesting spike in the Nov 9, 2016.\n",
    "\n",
    "Hot water also is variable, however data is consistent in itself. Hot water consumtion is higher in the winter season and shows the lowest results between May and July. The data range is 0-1200 kWh having only one data point as 1200 on Dec 19, 2016. Excluding this, data is spread between 0-1000 kWh. The lesser consumption in summer season is a useful trend for our ML model to catch."
   ]
  },
  {
   "cell_type": "markdown",
   "metadata": {},
   "source": [
    "## <a id='2-2'> 2.2. Meter reading VS weather_train data </a>\n",
    "<a href='#top'> Back to top </a>"
   ]
  },
  {
   "cell_type": "markdown",
   "metadata": {},
   "source": [
    "### <a id='2-2-1'> 2.2.1. Prepare & merge dataframes </a>\n",
    "<a href='#top'> Back to top </a>"
   ]
  },
  {
   "cell_type": "markdown",
   "metadata": {},
   "source": [
    "I am going to visualize weather data available and meter_reading values per meter category to see how each observation of cloud, temperature, pressure, precipitation and wind affects meter reading. Moreover, I am going to look for reasonable explanations of extremes in the chilled water, steam and hot water consumption in the weather data.\n",
    "\n",
    "To aggreagte hourly observations, weather train data will be upsampled to daily averages. After that, two datasets will be merged on timestamp column since this is the shared column between two."
   ]
  },
  {
   "cell_type": "markdown",
   "metadata": {},
   "source": [
    "**Weather Dataframe**"
   ]
  },
  {
   "cell_type": "code",
   "execution_count": null,
   "metadata": {},
   "outputs": [],
   "source": [
    "# upsample weather_train dataframe to get daily means\n",
    "weather_train_daily_avg = (weather_train.\n",
    "                           resample('d').\n",
    "                           mean())"
   ]
  },
  {
   "cell_type": "code",
   "execution_count": null,
   "metadata": {},
   "outputs": [],
   "source": [
    "# align weather train dataframe with the train_daily_avg dataframe\n",
    "weather_train_daily_avg.reset_index(inplace=True)"
   ]
  },
  {
   "cell_type": "markdown",
   "metadata": {},
   "source": [
    "**Merge weather and train_daily_avg datasets**"
   ]
  },
  {
   "cell_type": "code",
   "execution_count": null,
   "metadata": {},
   "outputs": [],
   "source": [
    "weather_vs_meter_reading = (train_daily_avg_by_meter.\n",
    "                            merge(weather_train_daily_avg, \n",
    "                                  on='timestamp', \n",
    "                                  how='left'))"
   ]
  },
  {
   "cell_type": "code",
   "execution_count": null,
   "metadata": {},
   "outputs": [],
   "source": [
    "# rename meter column\n",
    "weather_vs_meter_reading['meter'] = (weather_vs_meter_reading['meter'].\n",
    "                                     map({0: 'electricity',\n",
    "                                          1: 'chilled_water',\n",
    "                                          2: 'steam',\n",
    "                                          3: 'hot_water'}))"
   ]
  },
  {
   "cell_type": "markdown",
   "metadata": {},
   "source": [
    "### <a id='2-2-2'> 2.2.2. Average daily weather variable values over 2016 </a>\n",
    "<a href='#top'> Back to top </a>"
   ]
  },
  {
   "cell_type": "markdown",
   "metadata": {},
   "source": [
    "Spikes and anomalies detected in the section *2.1.3.Average daily meter reading values over 2016* will be investigated while plotting average daily values of weather variables."
   ]
  },
  {
   "cell_type": "code",
   "execution_count": null,
   "metadata": {},
   "outputs": [],
   "source": [
    "# create weather variables and color dictionary\n",
    "weather_dict = {\"air_temperature\": \"red\",\n",
    "                \"cloud_coverage\": \"orange\",\n",
    "                \"dew_temperature\": \"coral\",\n",
    "                \"precip_depth_1_hr\": \"olive\",\n",
    "                \"sea_level_pressure\": \"teal\",\n",
    "                \"wind_direction\": \"purple\",\n",
    "                \"wind_speed\": \"navy\" \n",
    "               }"
   ]
  },
  {
   "cell_type": "markdown",
   "metadata": {},
   "source": [
    "**By clicking on the legend in each category, you can observe meter categories individually.**"
   ]
  },
  {
   "cell_type": "code",
   "execution_count": null,
   "metadata": {},
   "outputs": [],
   "source": [
    "# create plotly object and plot weather variables against dates\n",
    "fig = go.Figure()\n",
    "    \n",
    "for key in weather_dict:\n",
    "    fig.add_trace(go\n",
    "                  .Line(x=weather_vs_meter_reading['timestamp'],\n",
    "                        y=weather_vs_meter_reading[key], \n",
    "                        name=key,\n",
    "                        line_color=weather_dict[key]))\n",
    "    \n",
    "fig.update_layout(title_text='Time Series of Weather Variables')\n",
    "fig.show()      "
   ]
  },
  {
   "cell_type": "markdown",
   "metadata": {},
   "source": [
    "Recall Dec 19, 2016 where there is a peak int the hot_water consumption. On that date, 4th lowest air_temperature is recorded 1 degrees celcius, this might explain the spike in the hot_water consumption. Obviously, air temperature trend shows that this measurements recorded somewhere in Northern hemisphere.\n",
    "\n",
    "Recall from the definition dew temperature it is usually lower than air_temperature. If you look at air_temperature and dew_temperatur together, it proves this statement. Especially, dew_temperature is 5 degrees lower than the air_temperature and shares the same trend as air_temperature.\n",
    "\n",
    "Average daily cloud coverage values are between 1 and 5. Higher cloud coverage indicates cloudy days, thus in winter there are more cloudy days.\n",
    "\n",
    "If we look at the precipt_depth_1_hr half of the year is rainy, and half of the year seems to be dry. There are some days where average daily precip_depth_1_hr goes beyond 5. \n",
    "\n",
    "Sea level pressure is not changing much over the year. Wind_direction will make more sense if we look at it as directions (north, south and so on). Thus I will convert them to directions. Average wind speed is around 3.5 and varies values throughout the year."
   ]
  },
  {
   "cell_type": "markdown",
   "metadata": {},
   "source": [
    "### <a id='2-2-3'> 2.2.3. Pairplot of meter reading vs weather data </a>\n",
    "<a href='#top'> Back to top </a>"
   ]
  },
  {
   "cell_type": "markdown",
   "metadata": {},
   "source": [
    "Pairplots are very useful to look at several continuous variables relationships in one chart. Ploly version of pairplots are scatterplots or scatter matrix.\n",
    "\n",
    "To understand the relationship between meter_reading and weather related variables, scatter matrix of energy consumption data and weather data will be visualized and relationships & correlations will be searched."
   ]
  },
  {
   "cell_type": "code",
   "execution_count": null,
   "metadata": {
    "_kg_hide-input": true
   },
   "outputs": [],
   "source": [
    "# fig = ff.create_scatterplotmatrix(\n",
    "#    weather_vs_meter_reading[[\"meter_reading\",\n",
    "#                              \"air_temperature\",\n",
    "#                              \"cloud_coverage\",\n",
    "#                              \"dew_temperature\",\n",
    "#                              \"precip_depth_1_hr\",\n",
    "#                              \"sea_level_pressure\",\n",
    "#                              \"wind_direction\",\n",
    "#                              \"wind_speed\",\n",
    "#                              \"meter\"]], diag='histogram', index='meter',\n",
    "#                                  height=1400, width=1400)\n",
    "# fig.update_layout(\n",
    "#    title='Weather Varaibles and Meter Reading',\n",
    "#    dragmode='select'\n",
    "#)\n",
    "\n",
    "# fig.show()"
   ]
  },
  {
   "cell_type": "markdown",
   "metadata": {},
   "source": [
    "**By clicking on the legend in the right hand side, you can observe meter categories individually.**"
   ]
  },
  {
   "cell_type": "code",
   "execution_count": null,
   "metadata": {},
   "outputs": [],
   "source": [
    "fig = px.scatter_matrix(weather_vs_meter_reading,\n",
    "                        dimensions=[\"meter_reading\",\n",
    "                                    \"air_temperature\",\n",
    "                                    \"cloud_coverage\",\n",
    "                                    \"dew_temperature\",\n",
    "                                    \"precip_depth_1_hr\",\n",
    "                                    \"sea_level_pressure\",\n",
    "                                    \"wind_direction\",\n",
    "                                    \"wind_speed\"],\n",
    "                        color=\"meter\")\n",
    "\n",
    "fig.update_layout(\n",
    "    title='Weather Varaibles and Meter Reading',\n",
    "    dragmode='select',\n",
    "    width=1400,\n",
    "    height=1400,\n",
    "    hovermode='closest')\n",
    "\n",
    "fig.update_traces(diagonal_visible=True)\n",
    "fig.show()"
   ]
  },
  {
   "cell_type": "markdown",
   "metadata": {},
   "source": [
    "**Electricity:**\n",
    "- As the air and dew temperature goes up, electricity consumption increases.\n",
    "- Cloud coverage, sea level pressure, precip depth 1 hour shows positive trend with the electricity consumption. Although their correlations are not as strong as temperature variables.\n",
    "- Wind direction and wind speed has almost no effect in electricity consumption.\n",
    "\n",
    "**Chilled water:**\n",
    "- As the air and dew temperature rises, chilled water consumption increases.\n",
    "- Other weather variables shows a slightly weaker positive trend with chilled water consumption, compared to temperature variables.\n",
    "\n",
    "**Steam:**\n",
    "- Although the data range is wider and higher than the weather variables, air temperature, dew temperature and cloud coverage shows positive trend with the steam consumption.\n",
    "- Precip depth 1 hour have a small effect (with a positive trend) in determining the steam consumption.\n",
    "- Rest of the weather variables does not significantly impacting steam consumption.\n",
    "\n",
    "**Hot water:**\n",
    "- Other weather variables shows positive trend with the hot water consumption.\n",
    "- Air and dew temprature shows negative trend with the hot water consumption.\n",
    "\n",
    "One other important observation is air and dew temperature are highly collinear. All of the weather variables whether it is slight or strong have an affect on energy consumption."
   ]
  },
  {
   "cell_type": "markdown",
   "metadata": {},
   "source": [
    "## <a id='2-3'> 2.3. Meter reading VS building data categorical features </a>"
   ]
  },
  {
   "cell_type": "markdown",
   "metadata": {},
   "source": [
    "### <a id='2-3-1'> 2.3.1. Prepare & merge dataframes </a> \n",
    "<a href='#top'> Back to top </a> "
   ]
  },
  {
   "cell_type": "markdown",
   "metadata": {},
   "source": [
    "Meter reading values will be visualized against the categorical variables (primary_use and site_id) of building data. To do that, first train data will be grouped by building id and meter category and data will be aggreagted by mean."
   ]
  },
  {
   "cell_type": "code",
   "execution_count": null,
   "metadata": {},
   "outputs": [],
   "source": [
    "# group train dataset per building and meter category\n",
    "train_by_building = (train.\n",
    "                     groupby([\"building_id\", \"meter\"]).\n",
    "                     meter_reading.mean().\n",
    "                     reset_index())"
   ]
  },
  {
   "cell_type": "code",
   "execution_count": null,
   "metadata": {},
   "outputs": [],
   "source": [
    "# merge grouped train dataframe with building dataset\n",
    "building_w_meter_reading = (train_by_building.\n",
    "                            merge(building, \n",
    "                                  on='building_id', \n",
    "                                  how='left'))"
   ]
  },
  {
   "cell_type": "markdown",
   "metadata": {},
   "source": [
    "### <a id='2-3-2'> 2.3.2. Meter reading distribution among primary uses </a> \n",
    "<a href='#top'> Back to top </a>  "
   ]
  },
  {
   "attachments": {
    "image.png": {
     "image/png": "[encoded data removed]"
    }
   },
   "cell_type": "markdown",
   "metadata": {},
   "source": [
    "Recall from the profiling report 80% of the `primary_use` values consists of the top 5 values:\n",
    "![image.png](attachment:image.png)\n",
    "\n",
    "\n",
    "I am going to decode top 5 primary_use values as a new column first, then look for the distribution of meter reading among different primary use."
   ]
  },
  {
   "cell_type": "code",
   "execution_count": null,
   "metadata": {},
   "outputs": [],
   "source": [
    "# add log_meter_reading to visualize meter_reading distribution\n",
    "building_w_meter_reading['log_meter_reading'] = np.log1p(building_w_meter_reading['meter_reading'])"
   ]
  },
  {
   "cell_type": "code",
   "execution_count": null,
   "metadata": {},
   "outputs": [],
   "source": [
    "# map primary use column \n",
    "building_w_meter_reading['primary_use_mapped'] = (building_w_meter_reading['primary_use'].\n",
    "                                                  map({'Office': 'Office',\n",
    "                                                        'Education': 'Education',\n",
    "                                                        'Entertainment/public assembly':'Entertainment/public',\n",
    "                                                        'Lodging/residential': 'Residential',\n",
    "                                                        'Public services': 'Public services'\n",
    "                                                       }))"
   ]
  },
  {
   "cell_type": "code",
   "execution_count": null,
   "metadata": {},
   "outputs": [],
   "source": [
    "# replace the rest with Other\n",
    "building_w_meter_reading['primary_use_mapped'].replace(np.nan, \n",
    "                                                       'Other', \n",
    "                                                       regex=True, \n",
    "                                                       inplace=True)"
   ]
  },
  {
   "cell_type": "code",
   "execution_count": null,
   "metadata": {},
   "outputs": [],
   "source": [
    "building_w_meter_reading['meter'] = (building_w_meter_reading['meter'].\n",
    "                                     map({0: 'electricity',\n",
    "                                          1: 'chilled_water',\n",
    "                                          2: 'steam',\n",
    "                                          3: 'hot_water'\n",
    "                                         }))"
   ]
  },
  {
   "cell_type": "code",
   "execution_count": null,
   "metadata": {},
   "outputs": [],
   "source": [
    "# split bıilding_w_meter_reading dataset per primary use category\n",
    "education = (building_w_meter_reading[building_w_meter_reading[\n",
    "    'primary_use_mapped'] == 'Education'])\n",
    "\n",
    "office = (building_w_meter_reading[building_w_meter_reading[\n",
    "    'primary_use_mapped'] == 'Office'])\n",
    "\n",
    "entertainment_public = (building_w_meter_reading[building_w_meter_reading[\n",
    "    'primary_use_mapped'] == 'Entertainment/public'])\n",
    "\n",
    "residential = (building_w_meter_reading[building_w_meter_reading[\n",
    "    'primary_use_mapped'] == 'Residential'])\n",
    "\n",
    "public_services = (building_w_meter_reading[building_w_meter_reading[\n",
    "    'primary_use_mapped'] == 'Public services'])\n",
    "\n",
    "other = (building_w_meter_reading[building_w_meter_reading[\n",
    "    'primary_use_mapped'] == 'Other'])"
   ]
  },
  {
   "cell_type": "code",
   "execution_count": null,
   "metadata": {},
   "outputs": [],
   "source": [
    "# create distplot parameters as lists\n",
    "hist_data = [education['log_meter_reading'], \n",
    "             office['log_meter_reading'],\n",
    "             entertainment_public['log_meter_reading'],\n",
    "             residential['log_meter_reading'],\n",
    "             public_services['log_meter_reading'],\n",
    "             other['log_meter_reading']]\n",
    "\n",
    "group_labels = ['education', 'office', 'entertainment_public',\n",
    "               'residential', 'public_services', 'other' ]\n",
    "\n",
    "colors = ['#333F44', '#37AA9C', '#94F3E4', '#66CCFF', '#2C89AB', '#0324A9']"
   ]
  },
  {
   "cell_type": "code",
   "execution_count": null,
   "metadata": {},
   "outputs": [],
   "source": [
    "# create KDE plot of log_meter_reading \n",
    "fig = ff.create_distplot(hist_data, group_labels, \n",
    "                         show_hist=False, colors=colors, show_rug=True)\n",
    "fig.update_layout(title_text='Distribution of Logarithm Meter Reading among Primary Use')\n",
    "fig.show()"
   ]
  },
  {
   "cell_type": "markdown",
   "metadata": {},
   "source": [
    "All primary_use categories shows uni-modal distirbution. We have fewer data points where log_meter_reading values are greater than 10 in all primary use categories.\n",
    "\n",
    "Median values log_meter_reading in Education, residential and office are between 4.5 and 4.9, whereas median values of entertainment, publice services and other are between 3.9 and 4.3.\n",
    "\n",
    "**Education:**\n",
    "- This primary use category has the most datapoints (38%) in the primary_use column.\n",
    "- Meter reading values are normally distributed between 0 and 10.\n",
    "- There is one outlier in this category whose log_meter_reading value is greater than 15.\n",
    "\n",
    "**Residential:**\n",
    "- Residential category is the 10% of all primary_use values.\n",
    "- Meter reading values are spread between 1.5 and 8.\n",
    "- This primary use category has the narrowest data range.\n",
    "\n",
    "**Office**:\n",
    "- Office category has the second most datapoints (20%).\n",
    "- Log meter reading values spread between 0.7 and 8.5.\n",
    "- There are several outliers greater than 10.\n",
    "\n",
    "**Entertainment/public:**\n",
    "- Entertainment/public category is the 13% of all primary_use values.\n",
    "- Meter reading value spread between 0.1 and 9.6.\n",
    "- Entertainment/public category has one outlier point greater than 10.\n",
    "\n",
    "**Public services:**\n",
    "- This category distributed between 0.7 and 7.5 having 3 outlier points.\n",
    "\n",
    "**Other:**\n",
    "- Log meter reading values are spread between 0.2 and 8.2.\n",
    "- It has one outlier greater than 10.\n",
    "\n",
    "Although some of primary_use meter reading distirbution resembles, it has importance in determining a meter_reading values, by each primary_use category having different ranges of log_meter_reading_values."
   ]
  },
  {
   "cell_type": "markdown",
   "metadata": {},
   "source": [
    "### <a id='2-3-3'> 2.3.3. Meter reading distribution among site id as violinplot </a> \n",
    "<a href='#top'> Back to top </a>   "
   ]
  },
  {
   "cell_type": "markdown",
   "metadata": {},
   "source": [
    "To understand how meter reading values distributed in each site_id lets first understand the distribution of site_ids in the building dataset."
   ]
  },
  {
   "cell_type": "code",
   "execution_count": null,
   "metadata": {},
   "outputs": [],
   "source": [
    "# histogram of site_ids\n",
    "fig = px.histogram(building, x=\"site_id\")\n",
    "fig.update_layout(title_text='Distribution Site IDs')\n",
    "fig.show()"
   ]
  },
  {
   "cell_type": "markdown",
   "metadata": {},
   "source": [
    "Most of the training set examples are coming from site id 0, 2, 3, 4, 5, 9, 13, 14 and 15."
   ]
  },
  {
   "cell_type": "markdown",
   "metadata": {},
   "source": [
    "Violinplots are one [my favorite](https://towardsdatascience.com/recipes-for-the-visualizations-of-data-distributions-a1527a0faf77) data exploratation tools, conveying the summary statistics and distribution at the same time. They are robust visualization when it comes to looking at a distribuiton among categories."
   ]
  },
  {
   "cell_type": "code",
   "execution_count": null,
   "metadata": {},
   "outputs": [],
   "source": [
    "# create site id list\n",
    "site_ids = building_w_meter_reading.site_id.unique().tolist()\n",
    "\n",
    "# create plotly object and visualize the distribution\n",
    "fig = go.Figure()\n",
    "\n",
    "# add a violin plot for each site_id\n",
    "for site_id in site_ids:\n",
    "    fig.add_trace(go.Violin(y=building_w_meter_reading\n",
    "                            [building_w_meter_reading['site_id'] == site_id]\n",
    "                            ['log_meter_reading'],\n",
    "                            name=site_id,\n",
    "                            box_visible=True))\n",
    "\n",
    "# set title and show the object\n",
    "fig.update_layout(title_text='Distribution of Logarithm Meter Reading among Site ID')\n",
    "fig.show()"
   ]
  },
  {
   "cell_type": "markdown",
   "metadata": {},
   "source": [
    "* Site ids 0, 1, 2, 3, 4, 5, 8, 9, 14 and 15 have similar meter reading distributions.\n",
    "* Site ids 6 and 10 meter_reading values shares almost the same distribution and summary statistics.\n",
    "* Site id 13 has the widest meter reading value range that goes beyond log_meter_reading_value 10.\n",
    "* Site id 11 has the narrowest meter reading values range, centered around 5.\n",
    "* Site id 13 shows the widest meter_reading distributions.\n",
    "\n",
    "As site_id's are highly correlated with building id's, I might one to keep only one of them which I will decide at the end of this notebook."
   ]
  },
  {
   "cell_type": "markdown",
   "metadata": {},
   "source": [
    "## <a id='2-4'> 2.4. Meter reading VS building data continuous features as scatterplots </a> \n",
    "<a href='#top'> Back to top </a>    "
   ]
  },
  {
   "cell_type": "markdown",
   "metadata": {},
   "source": [
    "Logarithm of the meter reading values in each meter category will be visualized against the continuous variables (square_feet, year and floor_count) of the building dataset."
   ]
  },
  {
   "cell_type": "markdown",
   "metadata": {},
   "source": [
    "### <a id='2-4-1'> 2.4.1. Scatter plot of meter reading VS square feet </a> \n",
    "<a href='#top'> Back to top </a>     "
   ]
  },
  {
   "cell_type": "code",
   "execution_count": null,
   "metadata": {},
   "outputs": [],
   "source": [
    "fig = px.scatter(building_w_meter_reading, x=\"square_feet\", y=\"log_meter_reading\", \n",
    "                 color=\"meter\", hover_data=['meter_reading'])\n",
    "\n",
    "fig.update_layout(title_text='Meter Reading VS Square Feet Among Different Meters')\n",
    "fig.show()"
   ]
  },
  {
   "cell_type": "markdown",
   "metadata": {},
   "source": [
    "There is a clear connectcion between square feet and meter_reading values in all categories, whcih can be captured by intuition also: As the size of the building increases, it consumes more in each category."
   ]
  },
  {
   "cell_type": "markdown",
   "metadata": {},
   "source": [
    "### <a id='2-4-2'> 2.4.2. Scatter plot of meter reading VS age of the building </a> \n",
    "<a href='#top'> Back to top </a>    "
   ]
  },
  {
   "cell_type": "markdown",
   "metadata": {},
   "source": [
    "I will add one more column as `age` using `year_built` column and use that one."
   ]
  },
  {
   "cell_type": "code",
   "execution_count": null,
   "metadata": {},
   "outputs": [],
   "source": [
    "currentYear = datetime.now().year\n",
    "building_w_meter_reading['age'] = currentYear - building_w_meter_reading['year_built']"
   ]
  },
  {
   "cell_type": "code",
   "execution_count": null,
   "metadata": {},
   "outputs": [],
   "source": [
    "fig = px.scatter(building_w_meter_reading, x=\"age\", y=\"log_meter_reading\",\n",
    "                 color=\"meter\", hover_data=['meter_reading'])\n",
    "\n",
    "fig.update_layout(title_text='Meter Reading VS Age of the Building Among Different Meters')\n",
    "fig.show()"
   ]
  },
  {
   "cell_type": "markdown",
   "metadata": {},
   "source": [
    "There is no obivous relationship between the age and log_meter_reading values of electricity and steam.\n",
    "\n",
    "There is obvious relationship in the hot_water category as the age of the building increases hot water consumption increases.\n",
    "\n",
    "Other obvious relationship is as the building age increases chilled water consumption decrease. Maybe old buildings don't have chilled water supply structures."
   ]
  },
  {
   "cell_type": "markdown",
   "metadata": {},
   "source": [
    "### <a id='2-4-3'> 2.4.3. Scatter plot of meter reading VS floor count </a> \n",
    "<a href='#top'> Back to top </a>  "
   ]
  },
  {
   "cell_type": "code",
   "execution_count": null,
   "metadata": {},
   "outputs": [],
   "source": [
    "fig = px.scatter(building_w_meter_reading, x=\"floor_count\", y=\"log_meter_reading\", \n",
    "                 color=\"meter\", hover_data=['meter_reading'])\n",
    "\n",
    "fig.update_layout(title_text='Meter Reading VS Floor Count Among Different Meters')\n",
    "fig.show()"
   ]
  },
  {
   "cell_type": "markdown",
   "metadata": {},
   "source": [
    "Due to the less data points we have in the floor_count, it is hard to extract some meaningful conclusions from the graph, although it gives pretends to give for electricity, chilled water and hot water."
   ]
  },
  {
   "cell_type": "markdown",
   "metadata": {},
   "source": [
    "## <a id='2-5'> 2.5. Findings from exploratory data analysis </a> \n",
    "<a href='#top'> Back to top </a>     "
   ]
  },
  {
   "cell_type": "markdown",
   "metadata": {},
   "source": [
    "**After a long and very detailed exploratory data analysis, here are the most important findings:**\n",
    "\n",
    "Meter reading values are higly and positively skewed. When we apply log1p function (calculates log(x+1)) to meter reading values we are able to obtain meaningful visualizations and conclusions.\n",
    "\n",
    "There are significant number of 0 observations in the meter reading, which is due to erroneous or missing measurements. For generating the predictions on meter reading this is a valuable information.\n",
    "\n",
    "Even with the extreme outlier detection 7% of the meter reading observations are detected as outliers. I will keep all of the rows of the train data and build machine learning model with them, even 800.000 square feet buildings.\n",
    "\n",
    "Energy consumption has different data ranges among meter categories and shows different distributions. Chilled water and hot_water time-series consumption shows seasonality: Hot water consumption increases in winter and chilled water consumption increases in summer. Electricty consumption has an increasing trend towards the end of 2016. There are no obvious patterns or seasonality effect in the steam consumption.\n",
    "\n",
    "Primary use, site id, year built (or age), square feet has a significant effect in determining meter reading values which also intuitively makes sense. Floor_count has high missing values, so it will manipulate the training data into a different direction if we impute it. So, I am going to exclude that one from the training set in the second notebook.\n",
    "\n",
    "Some weather variables (air_temperature, dew_temperature, cloud_coverage) have high impact on meter reading values, some of them have slight (wind_direction, wind_speed) effect. For that reason, I am going to convert wind_direction to categorical data in the feature engineering part. Air and dew temperature are highly collinear. All of the weather variables might be useful for feaure engineering and addition, so I will keep all of them."
   ]
  },
  {
   "cell_type": "markdown",
   "metadata": {},
   "source": [
    "# <a id='3'>  Conclusions </a>\n",
    "<a href='#top'> Back to top </a> "
   ]
  },
  {
   "cell_type": "markdown",
   "metadata": {},
   "source": [
    "This is the end of the first notebok, thank you for reading until the end!\n",
    "\n",
    "In this notebook we covered:\n",
    "1. Understand, Clean and Format Data\n",
    "2. Exploratory Data Analysis\n",
    "\n",
    "The most important findings in each section is summarized under <a href='#1-5'> 1.5. Findings from Understand, Clean, Format Data </a> and <a href='#2-5'> 2.5. Findings from exploratory data analysis </a>.\n",
    "\n",
    "As a result of the first two sections, now an idea of how to approach feature engineering started to form. Second notebook will continue with *3. Feature Engineering & Selection* using findings of this notebook.\n",
    "\n",
    "And our problem statement still remains challenging ⚡️. Based on the 15 features and available, 1 year time-series data (nearly 20 million rows) we are going to predict the next 2 years electricity, chilled water, hot water and steam consumption of each building (nearly 40 million rows). \n",
    "\n",
    "See you in the [second notebook](https://www.kaggle.com/cereniyim/save-the-energy-for-the-future-2-fe-lightgbm) 👋 where I start to dig into ML models following the steps described at the beginning."
   ]
  },
  {
   "cell_type": "markdown",
   "metadata": {},
   "source": [
    "![image](https://pixy.org/src/128/1285841.jpg)\n",
    "Image source: [pixy](https://pixy.org/1285841/)"
   ]
  }
 ],
 "metadata": {
  "kernelspec": {
   "display_name": "Python 3",
   "language": "python",
   "name": "python3"
  },
  "language_info": {
   "codemirror_mode": {
    "name": "ipython",
    "version": 3
   },
   "file_extension": ".py",
   "mimetype": "text/x-python",
   "name": "python",
   "nbconvert_exporter": "python",
   "pygments_lexer": "ipython3",
   "version": "3.7.9"
  }
 },
 "nbformat": 4,
 "nbformat_minor": 4
}
