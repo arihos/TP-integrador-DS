{
 "cells": [
  {
   "cell_type": "markdown",
   "metadata": {},
   "source": [
    "# Exploración descriptiva de los datasets"
   ]
  },
  {
   "cell_type": "markdown",
   "metadata": {},
   "source": [
    "<a id=\"section_toc\"></a> \n",
    "## Tabla de Contenidos\n",
    "\n",
    "[Datasets](#section_datasets)\n",
    "\n",
    "   [1) building_metada](#section_datasets_building_metada)\n",
    "    \n",
    "   [2) wheater_test](#section_datasets_wheater_test)\n",
    "    \n",
    "   [3) wheater_train](#section_datasets_wheater_train)\n",
    "    \n",
    "   [4) test](#section_datasets_test)\n",
    "    \n",
    "   [5) train](#section_datasets_train)\n",
    "    \n",
    "   [6) merge train](#section_datasets_merge_train)\n",
    "\n",
    "[Analisis](#section_analisis)\n",
    "\n",
    "[Por Medidor](#section_medidor)\n",
    "\n",
    "[Por Site_id](#section_site)\n",
    "\n",
    "[Por Temperatura](#section_temperatura)\n",
    "\n",
    "[Feature engineering](#section_eng_feat)\n",
    "\n",
    "[Vientos](#section_rosa)\n",
    "\n",
    "[Datasets sin outliers](#section_no_out)\n",
    "\n",
    "[](#section_)\n",
    "\n",
    "[](#section_)\n",
    "\n",
    "[](#section_)\n",
    "\n",
    "[](#section_)\n",
    "\n",
    "[](#section_)\n",
    "\n"
   ]
  },
  {
   "cell_type": "markdown",
   "metadata": {},
   "source": [
    "<a id=\"section_datasets\"></a> \n",
    "## Datasets\n",
    "[volver a TOC](#section_toc)\n",
    "\n",
    "Contamos con 6 Datasets, vamos a explorarlos en el siguiente orden:\n",
    "\n",
    "    1) building_metada\n",
    "    2) wheater_test\n",
    "    3) wheater_train \n",
    "    4) test\n",
    "    5) train\n",
    "    6) merge train"
   ]
  },
  {
   "cell_type": "code",
   "execution_count": 1,
   "metadata": {},
   "outputs": [],
   "source": [
    "#En caso de no haber instalado pandas profiling des-comentar \n",
    "#la siguiente linea por una sola vez\n",
    "\n",
    "!pip install pandas_profiling\n",
    "\n",
    "import pandas_profiling\n",
    "import pandas as pd\n",
    "import numpy as np\n",
    "import matplotlib\n",
    "import matplotlib.pyplot as plt\n",
    "import seaborn as sns\n",
    "import warnings\n",
    "import gc\n",
    "warnings.simplefilter('ignore')\n",
    "matplotlib.rcParams['figure.dpi'] = 100\n",
    "sns.set()\n",
    "%matplotlib inline"
   ]
  },
  {
   "cell_type": "code",
   "execution_count": 16,
   "metadata": {},
   "outputs": [
    {
     "name": "stdout",
     "output_type": "stream",
     "text": [
      "Requirement already satisfied: pandas_profiling in c:\\users\\ariel\\anaconda3\\envs\\dhdsblend\\lib\\site-packages (1.4.1)\n",
      "Requirement already satisfied: pandas>=0.19 in c:\\users\\ariel\\anaconda3\\envs\\dhdsblend\\lib\\site-packages (from pandas_profiling) (1.0.3)\n",
      "Requirement already satisfied: matplotlib>=1.4 in c:\\users\\ariel\\anaconda3\\envs\\dhdsblend\\lib\\site-packages (from pandas_profiling) (3.3.1)\n",
      "Requirement already satisfied: jinja2>=2.8 in c:\\users\\ariel\\anaconda3\\envs\\dhdsblend\\lib\\site-packages (from pandas_profiling) (2.11.2)\n",
      "Requirement already satisfied: six>=1.9 in c:\\users\\ariel\\anaconda3\\envs\\dhdsblend\\lib\\site-packages (from pandas_profiling) (1.15.0)\n",
      "Requirement already satisfied: pytz>=2017.2 in c:\\users\\ariel\\anaconda3\\envs\\dhdsblend\\lib\\site-packages (from pandas>=0.19->pandas_profiling) (2020.1)\n",
      "Requirement already satisfied: python-dateutil>=2.6.1 in c:\\users\\ariel\\anaconda3\\envs\\dhdsblend\\lib\\site-packages (from pandas>=0.19->pandas_profiling) (2.8.1)\n",
      "Requirement already satisfied: numpy>=1.13.3 in c:\\users\\ariel\\anaconda3\\envs\\dhdsblend\\lib\\site-packages (from pandas>=0.19->pandas_profiling) (1.19.1)\n",
      "Requirement already satisfied: certifi>=2020.06.20 in c:\\users\\ariel\\anaconda3\\envs\\dhdsblend\\lib\\site-packages (from matplotlib>=1.4->pandas_profiling) (2020.12.5)\n",
      "Requirement already satisfied: pyparsing!=2.0.4,!=2.1.2,!=2.1.6,>=2.0.3 in c:\\users\\ariel\\anaconda3\\envs\\dhdsblend\\lib\\site-packages (from matplotlib>=1.4->pandas_profiling) (2.4.7)\n",
      "Requirement already satisfied: pillow>=6.2.0 in c:\\users\\ariel\\anaconda3\\envs\\dhdsblend\\lib\\site-packages (from matplotlib>=1.4->pandas_profiling) (7.2.0)\n",
      "Requirement already satisfied: kiwisolver>=1.0.1 in c:\\users\\ariel\\anaconda3\\envs\\dhdsblend\\lib\\site-packages (from matplotlib>=1.4->pandas_profiling) (1.2.0)\n",
      "Requirement already satisfied: cycler>=0.10 in c:\\users\\ariel\\anaconda3\\envs\\dhdsblend\\lib\\site-packages (from matplotlib>=1.4->pandas_profiling) (0.10.0)\n",
      "Requirement already satisfied: MarkupSafe>=0.23 in c:\\users\\ariel\\anaconda3\\envs\\dhdsblend\\lib\\site-packages (from jinja2>=2.8->pandas_profiling) (1.1.1)\n"
     ]
    }
   ],
   "source": [
    "!pip install pandas_profiling"
   ]
  },
  {
   "cell_type": "code",
   "execution_count": 2,
   "metadata": {},
   "outputs": [],
   "source": [
    "#importamos los datasets\n",
    "\n",
    "building = pd.read_csv(\"../Data/ashrae-energy-prediction/building_metadata.csv\")\n",
    "weather_test = pd.read_csv(\"../Data/ashrae-energy-prediction/weather_test.csv\")\n",
    "weather_train = pd.read_csv(\"../Data/ashrae-energy-prediction/weather_train.csv\")\n",
    "test0 = pd.read_csv(\"../Data/ashrae-energy-prediction/test.csv\")\n",
    "train0 = pd.read_csv(\"../Data/ashrae-energy-prediction/train.csv\")"
   ]
  },
  {
   "cell_type": "code",
   "execution_count": 3,
   "metadata": {},
   "outputs": [],
   "source": [
    "# hacemos un merge para tener dos datasets uno de train y otro de test\n",
    "\n",
    "train = train0.merge(building, on='building_id', how='left')\n",
    "test = test0.merge(building, on='building_id', how='left')\n",
    "\n",
    "train = train.merge(weather_train, on=['site_id', 'timestamp'], how='left')\n",
    "test = test.merge(weather_test, on=['site_id', 'timestamp'], how='left')\n",
    "#del weather_train, weather_test,building\n",
    "gc.collect();"
   ]
  },
  {
   "cell_type": "code",
   "execution_count": 4,
   "metadata": {},
   "outputs": [],
   "source": [
    "# vamos a trabajar solo con los medidores de electricidad (meter == 0)\n",
    "\n",
    "# dataset para train\n",
    "mask_meter_train = train.meter == 0\n",
    "train_m0 = train.loc[mask_meter_train]\n",
    "\n",
    "\n",
    "# dataset para el test\n",
    "mask_meter_test = test.meter == 0\n",
    "test_m0 = test.loc[mask_meter_test]"
   ]
  },
  {
   "cell_type": "code",
   "execution_count": 5,
   "metadata": {},
   "outputs": [
    {
     "name": "stdout",
     "output_type": "stream",
     "text": [
      "Tamaño del train antes del filtro: 20216100\n",
      "Tamaño del train depués del filtro: 12060910\n",
      "Tamaño del test antes del filtro: 41697600\n",
      "Tamaño del test después del filtro: 24755760\n"
     ]
    }
   ],
   "source": [
    "# se compara el tamaño de los datasets pre y post filtrado\n",
    "print('Tamaño del train antes del filtro:',train.shape[0])\n",
    "print('Tamaño del train depués del filtro:',train_m0.shape[0])\n",
    "print('Tamaño del test antes del filtro:',test.shape[0])\n",
    "print('Tamaño del test después del filtro:',test_m0.shape[0])"
   ]
  },
  {
   "cell_type": "code",
   "execution_count": 6,
   "metadata": {},
   "outputs": [],
   "source": [
    "# vamos a trabajar solo con establecimientos educativos (prymary_use == 'Education')\n",
    "\n",
    "# dataset para train\n",
    "mask_mprimary_use_train = train_m0.primary_use == 'Education'\n",
    "train_m0_primary_use = train_m0.loc[mask_mprimary_use_train]\n",
    "\n",
    "\n",
    "# dataset para el test\n",
    "mask_mprimary_use_test = test_m0.primary_use == 'Education'\n",
    "test_m0_primary_use = test_m0.loc[mask_mprimary_use_test]"
   ]
  },
  {
   "cell_type": "code",
   "execution_count": 7,
   "metadata": {},
   "outputs": [
    {
     "name": "stdout",
     "output_type": "stream",
     "text": [
      "Tamaño del train antes del filtro: 12060910\n",
      "Tamaño del train depués del filtro: 4597256\n",
      "Tamaño del test antes del filtro: 24755760\n",
      "Tamaño del test después del filtro: 9408240\n"
     ]
    }
   ],
   "source": [
    "# se compara el tamaño de los datasets pre y post filtrado\n",
    "print('Tamaño del train antes del filtro:',train_m0.shape[0])\n",
    "print('Tamaño del train depués del filtro:',train_m0_primary_use.shape[0])\n",
    "print('Tamaño del test antes del filtro:',test_m0.shape[0])\n",
    "print('Tamaño del test después del filtro:',test_m0_primary_use.shape[0])"
   ]
  },
  {
   "cell_type": "code",
   "execution_count": 8,
   "metadata": {},
   "outputs": [],
   "source": [
    "# se asignan los datasets\n",
    "\n",
    "train = train_m0_primary_use\n",
    "test = test_m0_primary_use"
   ]
  },
  {
   "cell_type": "code",
   "execution_count": 9,
   "metadata": {},
   "outputs": [],
   "source": [
    "# se definen los tipos de datos para ahorrar memoria\n",
    "\n",
    "d_types = {'building_id': np.int16,\n",
    "          'meter': np.int8,\n",
    "          'site_id': np.int8,\n",
    "          'primary_use': 'category',\n",
    "          'square_feet': np.int32,\n",
    "          'year_built': np.float16,\n",
    "          'floor_count': np.float16,\n",
    "          'air_temperature': np.float32,\n",
    "          'cloud_coverage': np.float16,\n",
    "          'dew_temperature': np.float32,\n",
    "          'precip_depth_1_hr': np.float16,\n",
    "          'sea_level_pressure': np.float32,\n",
    "          'wind_direction': np.float16,\n",
    "          'wind_speed': np.float32}\n",
    "\n",
    "for feature in d_types:\n",
    "    train[feature] = train[feature].astype(d_types[feature])\n",
    "    test[feature] = test[feature].astype(d_types[feature])\n",
    "    \n",
    "train[\"timestamp\"] = pd.to_datetime(train[\"timestamp\"])\n",
    "test[\"timestamp\"] = pd.to_datetime(test[\"timestamp\"])\n",
    "gc.collect();"
   ]
  },
  {
   "cell_type": "code",
   "execution_count": 10,
   "metadata": {},
   "outputs": [
    {
     "name": "stdout",
     "output_type": "stream",
     "text": [
      "<class 'pandas.core.frame.DataFrame'>\n",
      "Int64Index: 4597256 entries, 0 to 20216096\n",
      "Data columns (total 16 columns):\n",
      " #   Column              Dtype         \n",
      "---  ------              -----         \n",
      " 0   building_id         int16         \n",
      " 1   meter               int8          \n",
      " 2   timestamp           datetime64[ns]\n",
      " 3   meter_reading       float64       \n",
      " 4   site_id             int8          \n",
      " 5   primary_use         category      \n",
      " 6   square_feet         int32         \n",
      " 7   year_built          float16       \n",
      " 8   floor_count         float16       \n",
      " 9   air_temperature     float32       \n",
      " 10  cloud_coverage      float16       \n",
      " 11  dew_temperature     float32       \n",
      " 12  precip_depth_1_hr   float16       \n",
      " 13  sea_level_pressure  float32       \n",
      " 14  wind_direction      float16       \n",
      " 15  wind_speed          float32       \n",
      "dtypes: category(1), datetime64[ns](1), float16(5), float32(4), float64(1), int16(1), int32(1), int8(2)\n",
      "memory usage: 258.7 MB\n"
     ]
    }
   ],
   "source": [
    "train.info()"
   ]
  },
  {
   "cell_type": "code",
   "execution_count": 11,
   "metadata": {},
   "outputs": [
    {
     "data": {
      "text/html": [
       "<div>\n",
       "<style scoped>\n",
       "    .dataframe tbody tr th:only-of-type {\n",
       "        vertical-align: middle;\n",
       "    }\n",
       "\n",
       "    .dataframe tbody tr th {\n",
       "        vertical-align: top;\n",
       "    }\n",
       "\n",
       "    .dataframe thead th {\n",
       "        text-align: right;\n",
       "    }\n",
       "</style>\n",
       "<table border=\"1\" class=\"dataframe\">\n",
       "  <thead>\n",
       "    <tr style=\"text-align: right;\">\n",
       "      <th></th>\n",
       "      <th>building_id</th>\n",
       "      <th>meter</th>\n",
       "      <th>timestamp</th>\n",
       "      <th>meter_reading</th>\n",
       "      <th>site_id</th>\n",
       "      <th>primary_use</th>\n",
       "      <th>square_feet</th>\n",
       "      <th>year_built</th>\n",
       "      <th>floor_count</th>\n",
       "      <th>air_temperature</th>\n",
       "      <th>cloud_coverage</th>\n",
       "      <th>dew_temperature</th>\n",
       "      <th>precip_depth_1_hr</th>\n",
       "      <th>sea_level_pressure</th>\n",
       "      <th>wind_direction</th>\n",
       "      <th>wind_speed</th>\n",
       "    </tr>\n",
       "  </thead>\n",
       "  <tbody>\n",
       "    <tr>\n",
       "      <th>0</th>\n",
       "      <td>0</td>\n",
       "      <td>0</td>\n",
       "      <td>2016-01-01</td>\n",
       "      <td>0.0</td>\n",
       "      <td>0</td>\n",
       "      <td>Education</td>\n",
       "      <td>7432</td>\n",
       "      <td>2008.0</td>\n",
       "      <td>NaN</td>\n",
       "      <td>25.0</td>\n",
       "      <td>6.0</td>\n",
       "      <td>20.0</td>\n",
       "      <td>NaN</td>\n",
       "      <td>1019.700012</td>\n",
       "      <td>0.0</td>\n",
       "      <td>0.0</td>\n",
       "    </tr>\n",
       "    <tr>\n",
       "      <th>1</th>\n",
       "      <td>1</td>\n",
       "      <td>0</td>\n",
       "      <td>2016-01-01</td>\n",
       "      <td>0.0</td>\n",
       "      <td>0</td>\n",
       "      <td>Education</td>\n",
       "      <td>2720</td>\n",
       "      <td>2004.0</td>\n",
       "      <td>NaN</td>\n",
       "      <td>25.0</td>\n",
       "      <td>6.0</td>\n",
       "      <td>20.0</td>\n",
       "      <td>NaN</td>\n",
       "      <td>1019.700012</td>\n",
       "      <td>0.0</td>\n",
       "      <td>0.0</td>\n",
       "    </tr>\n",
       "    <tr>\n",
       "      <th>2</th>\n",
       "      <td>2</td>\n",
       "      <td>0</td>\n",
       "      <td>2016-01-01</td>\n",
       "      <td>0.0</td>\n",
       "      <td>0</td>\n",
       "      <td>Education</td>\n",
       "      <td>5376</td>\n",
       "      <td>1991.0</td>\n",
       "      <td>NaN</td>\n",
       "      <td>25.0</td>\n",
       "      <td>6.0</td>\n",
       "      <td>20.0</td>\n",
       "      <td>NaN</td>\n",
       "      <td>1019.700012</td>\n",
       "      <td>0.0</td>\n",
       "      <td>0.0</td>\n",
       "    </tr>\n",
       "    <tr>\n",
       "      <th>3</th>\n",
       "      <td>3</td>\n",
       "      <td>0</td>\n",
       "      <td>2016-01-01</td>\n",
       "      <td>0.0</td>\n",
       "      <td>0</td>\n",
       "      <td>Education</td>\n",
       "      <td>23685</td>\n",
       "      <td>2002.0</td>\n",
       "      <td>NaN</td>\n",
       "      <td>25.0</td>\n",
       "      <td>6.0</td>\n",
       "      <td>20.0</td>\n",
       "      <td>NaN</td>\n",
       "      <td>1019.700012</td>\n",
       "      <td>0.0</td>\n",
       "      <td>0.0</td>\n",
       "    </tr>\n",
       "    <tr>\n",
       "      <th>4</th>\n",
       "      <td>4</td>\n",
       "      <td>0</td>\n",
       "      <td>2016-01-01</td>\n",
       "      <td>0.0</td>\n",
       "      <td>0</td>\n",
       "      <td>Education</td>\n",
       "      <td>116607</td>\n",
       "      <td>1975.0</td>\n",
       "      <td>NaN</td>\n",
       "      <td>25.0</td>\n",
       "      <td>6.0</td>\n",
       "      <td>20.0</td>\n",
       "      <td>NaN</td>\n",
       "      <td>1019.700012</td>\n",
       "      <td>0.0</td>\n",
       "      <td>0.0</td>\n",
       "    </tr>\n",
       "  </tbody>\n",
       "</table>\n",
       "</div>"
      ],
      "text/plain": [
       "   building_id  meter  timestamp  meter_reading  site_id primary_use  \\\n",
       "0            0      0 2016-01-01            0.0        0   Education   \n",
       "1            1      0 2016-01-01            0.0        0   Education   \n",
       "2            2      0 2016-01-01            0.0        0   Education   \n",
       "3            3      0 2016-01-01            0.0        0   Education   \n",
       "4            4      0 2016-01-01            0.0        0   Education   \n",
       "\n",
       "   square_feet  year_built  floor_count  air_temperature  cloud_coverage  \\\n",
       "0         7432      2008.0          NaN             25.0             6.0   \n",
       "1         2720      2004.0          NaN             25.0             6.0   \n",
       "2         5376      1991.0          NaN             25.0             6.0   \n",
       "3        23685      2002.0          NaN             25.0             6.0   \n",
       "4       116607      1975.0          NaN             25.0             6.0   \n",
       "\n",
       "   dew_temperature  precip_depth_1_hr  sea_level_pressure  wind_direction  \\\n",
       "0             20.0                NaN         1019.700012             0.0   \n",
       "1             20.0                NaN         1019.700012             0.0   \n",
       "2             20.0                NaN         1019.700012             0.0   \n",
       "3             20.0                NaN         1019.700012             0.0   \n",
       "4             20.0                NaN         1019.700012             0.0   \n",
       "\n",
       "   wind_speed  \n",
       "0         0.0  \n",
       "1         0.0  \n",
       "2         0.0  \n",
       "3         0.0  \n",
       "4         0.0  "
      ]
     },
     "execution_count": 11,
     "metadata": {},
     "output_type": "execute_result"
    }
   ],
   "source": [
    "train.head()"
   ]
  },
  {
   "cell_type": "markdown",
   "metadata": {},
   "source": [
    "<a id=\"section_datasets_building_metada\"></a> \n",
    "### 1) building_metada\n",
    "[volver a TOC](#section_toc)"
   ]
  },
  {
   "cell_type": "code",
   "execution_count": 12,
   "metadata": {},
   "outputs": [
    {
     "name": "stdout",
     "output_type": "stream",
     "text": [
      "<class 'pandas.core.frame.DataFrame'>\n",
      "RangeIndex: 1449 entries, 0 to 1448\n",
      "Data columns (total 6 columns):\n",
      " #   Column       Non-Null Count  Dtype  \n",
      "---  ------       --------------  -----  \n",
      " 0   site_id      1449 non-null   int64  \n",
      " 1   building_id  1449 non-null   int64  \n",
      " 2   primary_use  1449 non-null   object \n",
      " 3   square_feet  1449 non-null   int64  \n",
      " 4   year_built   675 non-null    float64\n",
      " 5   floor_count  355 non-null    float64\n",
      "dtypes: float64(2), int64(3), object(1)\n",
      "memory usage: 68.0+ KB\n"
     ]
    }
   ],
   "source": [
    "building.info()"
   ]
  },
  {
   "cell_type": "code",
   "execution_count": 13,
   "metadata": {},
   "outputs": [
    {
     "data": {
      "text/html": [
       "<div>\n",
       "<style scoped>\n",
       "    .dataframe tbody tr th:only-of-type {\n",
       "        vertical-align: middle;\n",
       "    }\n",
       "\n",
       "    .dataframe tbody tr th {\n",
       "        vertical-align: top;\n",
       "    }\n",
       "\n",
       "    .dataframe thead th {\n",
       "        text-align: right;\n",
       "    }\n",
       "</style>\n",
       "<table border=\"1\" class=\"dataframe\">\n",
       "  <thead>\n",
       "    <tr style=\"text-align: right;\">\n",
       "      <th></th>\n",
       "      <th>site_id</th>\n",
       "      <th>building_id</th>\n",
       "      <th>primary_use</th>\n",
       "      <th>square_feet</th>\n",
       "      <th>year_built</th>\n",
       "      <th>floor_count</th>\n",
       "    </tr>\n",
       "  </thead>\n",
       "  <tbody>\n",
       "    <tr>\n",
       "      <th>0</th>\n",
       "      <td>0</td>\n",
       "      <td>0</td>\n",
       "      <td>Education</td>\n",
       "      <td>7432</td>\n",
       "      <td>2008.0</td>\n",
       "      <td>NaN</td>\n",
       "    </tr>\n",
       "    <tr>\n",
       "      <th>1</th>\n",
       "      <td>0</td>\n",
       "      <td>1</td>\n",
       "      <td>Education</td>\n",
       "      <td>2720</td>\n",
       "      <td>2004.0</td>\n",
       "      <td>NaN</td>\n",
       "    </tr>\n",
       "    <tr>\n",
       "      <th>2</th>\n",
       "      <td>0</td>\n",
       "      <td>2</td>\n",
       "      <td>Education</td>\n",
       "      <td>5376</td>\n",
       "      <td>1991.0</td>\n",
       "      <td>NaN</td>\n",
       "    </tr>\n",
       "    <tr>\n",
       "      <th>3</th>\n",
       "      <td>0</td>\n",
       "      <td>3</td>\n",
       "      <td>Education</td>\n",
       "      <td>23685</td>\n",
       "      <td>2002.0</td>\n",
       "      <td>NaN</td>\n",
       "    </tr>\n",
       "    <tr>\n",
       "      <th>4</th>\n",
       "      <td>0</td>\n",
       "      <td>4</td>\n",
       "      <td>Education</td>\n",
       "      <td>116607</td>\n",
       "      <td>1975.0</td>\n",
       "      <td>NaN</td>\n",
       "    </tr>\n",
       "  </tbody>\n",
       "</table>\n",
       "</div>"
      ],
      "text/plain": [
       "   site_id  building_id primary_use  square_feet  year_built  floor_count\n",
       "0        0            0   Education         7432      2008.0          NaN\n",
       "1        0            1   Education         2720      2004.0          NaN\n",
       "2        0            2   Education         5376      1991.0          NaN\n",
       "3        0            3   Education        23685      2002.0          NaN\n",
       "4        0            4   Education       116607      1975.0          NaN"
      ]
     },
     "execution_count": 13,
     "metadata": {},
     "output_type": "execute_result"
    }
   ],
   "source": [
    "building.head()"
   ]
  },
  {
   "cell_type": "code",
   "execution_count": 14,
   "metadata": {},
   "outputs": [
    {
     "data": {
      "text/plain": [
       "Education                        549\n",
       "Office                           279\n",
       "Entertainment/public assembly    184\n",
       "Public services                  156\n",
       "Lodging/residential              147\n",
       "Other                             25\n",
       "Healthcare                        23\n",
       "Parking                           22\n",
       "Warehouse/storage                 13\n",
       "Manufacturing/industrial          12\n",
       "Retail                            11\n",
       "Services                          10\n",
       "Technology/science                 6\n",
       "Food sales and service             5\n",
       "Utility                            4\n",
       "Religious worship                  3\n",
       "Name: primary_use, dtype: int64"
      ]
     },
     "execution_count": 14,
     "metadata": {},
     "output_type": "execute_result"
    }
   ],
   "source": [
    "building.primary_use.value_counts()"
   ]
  },
  {
   "cell_type": "code",
   "execution_count": 15,
   "metadata": {},
   "outputs": [
    {
     "ename": "AttributeError",
     "evalue": "'DataFrame' object has no attribute 'profile_report'",
     "output_type": "error",
     "traceback": [
      "\u001b[1;31m---------------------------------------------------------------------------\u001b[0m",
      "\u001b[1;31mAttributeError\u001b[0m                            Traceback (most recent call last)",
      "\u001b[1;32m<ipython-input-15-33e7a9e1b502>\u001b[0m in \u001b[0;36m<module>\u001b[1;34m\u001b[0m\n\u001b[1;32m----> 1\u001b[1;33m \u001b[0mbuilding\u001b[0m\u001b[1;33m.\u001b[0m\u001b[0mprofile_report\u001b[0m\u001b[1;33m(\u001b[0m\u001b[1;33m)\u001b[0m\u001b[1;33m\u001b[0m\u001b[1;33m\u001b[0m\u001b[0m\n\u001b[0m",
      "\u001b[1;32m~\\anaconda3\\envs\\dhdsblend\\lib\\site-packages\\pandas\\core\\generic.py\u001b[0m in \u001b[0;36m__getattr__\u001b[1;34m(self, name)\u001b[0m\n\u001b[0;32m   5272\u001b[0m             \u001b[1;32mif\u001b[0m \u001b[0mself\u001b[0m\u001b[1;33m.\u001b[0m\u001b[0m_info_axis\u001b[0m\u001b[1;33m.\u001b[0m\u001b[0m_can_hold_identifiers_and_holds_name\u001b[0m\u001b[1;33m(\u001b[0m\u001b[0mname\u001b[0m\u001b[1;33m)\u001b[0m\u001b[1;33m:\u001b[0m\u001b[1;33m\u001b[0m\u001b[1;33m\u001b[0m\u001b[0m\n\u001b[0;32m   5273\u001b[0m                 \u001b[1;32mreturn\u001b[0m \u001b[0mself\u001b[0m\u001b[1;33m[\u001b[0m\u001b[0mname\u001b[0m\u001b[1;33m]\u001b[0m\u001b[1;33m\u001b[0m\u001b[1;33m\u001b[0m\u001b[0m\n\u001b[1;32m-> 5274\u001b[1;33m             \u001b[1;32mreturn\u001b[0m \u001b[0mobject\u001b[0m\u001b[1;33m.\u001b[0m\u001b[0m__getattribute__\u001b[0m\u001b[1;33m(\u001b[0m\u001b[0mself\u001b[0m\u001b[1;33m,\u001b[0m \u001b[0mname\u001b[0m\u001b[1;33m)\u001b[0m\u001b[1;33m\u001b[0m\u001b[1;33m\u001b[0m\u001b[0m\n\u001b[0m\u001b[0;32m   5275\u001b[0m \u001b[1;33m\u001b[0m\u001b[0m\n\u001b[0;32m   5276\u001b[0m     \u001b[1;32mdef\u001b[0m \u001b[0m__setattr__\u001b[0m\u001b[1;33m(\u001b[0m\u001b[0mself\u001b[0m\u001b[1;33m,\u001b[0m \u001b[0mname\u001b[0m\u001b[1;33m:\u001b[0m \u001b[0mstr\u001b[0m\u001b[1;33m,\u001b[0m \u001b[0mvalue\u001b[0m\u001b[1;33m)\u001b[0m \u001b[1;33m->\u001b[0m \u001b[1;32mNone\u001b[0m\u001b[1;33m:\u001b[0m\u001b[1;33m\u001b[0m\u001b[1;33m\u001b[0m\u001b[0m\n",
      "\u001b[1;31mAttributeError\u001b[0m: 'DataFrame' object has no attribute 'profile_report'"
     ]
    }
   ],
   "source": [
    "building.profile_report()"
   ]
  },
  {
   "cell_type": "markdown",
   "metadata": {},
   "source": [
    "<a id=\"section_datasets_wheater_test\"></a> \n",
    "### 2) wheater_test\n",
    "[volver a TOC](#section_toc)"
   ]
  },
  {
   "cell_type": "code",
   "execution_count": null,
   "metadata": {},
   "outputs": [],
   "source": [
    "weather_test.info()"
   ]
  },
  {
   "cell_type": "code",
   "execution_count": null,
   "metadata": {},
   "outputs": [],
   "source": [
    "weather_test.head()"
   ]
  },
  {
   "cell_type": "code",
   "execution_count": null,
   "metadata": {},
   "outputs": [],
   "source": [
    "weather_test.profile_report()"
   ]
  },
  {
   "cell_type": "markdown",
   "metadata": {},
   "source": [
    "<a id=\"section_datasets_wheater_train\"></a> \n",
    "### 3) wheater_train\n",
    "[volver a TOC](#section_toc)"
   ]
  },
  {
   "cell_type": "code",
   "execution_count": null,
   "metadata": {},
   "outputs": [],
   "source": [
    "weather_train.info()"
   ]
  },
  {
   "cell_type": "code",
   "execution_count": null,
   "metadata": {},
   "outputs": [],
   "source": [
    "weather_train.head()"
   ]
  },
  {
   "cell_type": "code",
   "execution_count": null,
   "metadata": {},
   "outputs": [],
   "source": [
    "weather_train.profile_report()"
   ]
  },
  {
   "cell_type": "markdown",
   "metadata": {},
   "source": [
    "<a id=\"section_datasets_test\"></a> \n",
    "### 4) test\n",
    "[volver a TOC](#section_toc)"
   ]
  },
  {
   "cell_type": "code",
   "execution_count": null,
   "metadata": {},
   "outputs": [],
   "source": [
    "test0.info()"
   ]
  },
  {
   "cell_type": "code",
   "execution_count": null,
   "metadata": {},
   "outputs": [],
   "source": [
    "test0.head()"
   ]
  },
  {
   "cell_type": "code",
   "execution_count": null,
   "metadata": {},
   "outputs": [],
   "source": [
    "test0.profile_report()"
   ]
  },
  {
   "cell_type": "markdown",
   "metadata": {},
   "source": [
    "<a id=\"section_datasets_train\"></a> \n",
    "### 6) train\n",
    "[volver a TOC](#section_toc)"
   ]
  },
  {
   "cell_type": "code",
   "execution_count": null,
   "metadata": {},
   "outputs": [],
   "source": [
    "train0.info()"
   ]
  },
  {
   "cell_type": "code",
   "execution_count": null,
   "metadata": {},
   "outputs": [],
   "source": [
    "train0.head()"
   ]
  },
  {
   "cell_type": "code",
   "execution_count": null,
   "metadata": {},
   "outputs": [],
   "source": [
    "train0.profile_report()"
   ]
  },
  {
   "cell_type": "markdown",
   "metadata": {},
   "source": [
    "<a id=\"section_datasets_merge_train\"></a> \n",
    "### 6) merge train\n",
    "[volver a TOC](#section_toc)"
   ]
  },
  {
   "cell_type": "code",
   "execution_count": null,
   "metadata": {},
   "outputs": [],
   "source": [
    "# genera un dataset nuevo con el train mergeado\n",
    "#train.to_csv('../Data/ashrae-energy-prediction/trainv2.csv')"
   ]
  },
  {
   "cell_type": "code",
   "execution_count": null,
   "metadata": {},
   "outputs": [],
   "source": [
    "# lee el dataset nuevo con el train mergeado\n",
    "#train = pd.read_csv(\"../Data/ashrae-energy-prediction/trainv2.csv\")"
   ]
  },
  {
   "cell_type": "code",
   "execution_count": null,
   "metadata": {},
   "outputs": [],
   "source": [
    "train.info()"
   ]
  },
  {
   "cell_type": "code",
   "execution_count": null,
   "metadata": {},
   "outputs": [],
   "source": [
    "train.head()"
   ]
  },
  {
   "cell_type": "code",
   "execution_count": null,
   "metadata": {},
   "outputs": [],
   "source": [
    "train.profile_report(minimal=True)"
   ]
  },
  {
   "cell_type": "markdown",
   "metadata": {},
   "source": [
    "<a id=\"section_analisis\"></a> \n",
    "## Analisis\n",
    "[volver a TOC](#section_toc)"
   ]
  },
  {
   "cell_type": "code",
   "execution_count": null,
   "metadata": {},
   "outputs": [],
   "source": [
    "# variables en train y test\n",
    "\n",
    "train_data = (train.count() / len(train)).drop('meter_reading').sort_values().values\n",
    "ind = np.arange(len(train_data))\n",
    "width = 0.35\n",
    "\n",
    "fig, axes = plt.subplots(1,1,figsize=(14, 6), dpi=100)\n",
    "tr = axes.bar(ind, train_data, width, color='royalblue')\n",
    "\n",
    "test_data = (test.count() / len(test)).drop('row_id').sort_values().values\n",
    "tt = axes.bar(ind+width, test_data, width, color='seagreen')\n",
    "\n",
    "axes.set_ylabel('Cantidad de datos disponibles');\n",
    "axes.set_xticks(ind + width / 2)\n",
    "axes.set_xticklabels((train.count() / len(train)).drop('meter_reading').sort_values().index, rotation=40)\n",
    "axes.legend([tr, tt], ['Train', 'Test']);"
   ]
  },
  {
   "cell_type": "code",
   "execution_count": null,
   "metadata": {},
   "outputs": [],
   "source": [
    "# para tener en cuenta las mediciones en 0\n",
    "# set the plot size\n",
    "#figsize(12,10)\n",
    "fig, axes = plt.subplots(1, 1, figsize=(14, 6), dpi=100)\n",
    "\n",
    "# set the histogram, mean and median\n",
    "sns.distplot(np.log1p(train['meter_reading']),kde=True)\n",
    "plt.axvline(x=np.log1p(train.meter_reading.mean()),linewidth=3, color='g', label=\"mean\", alpha=0.5)\n",
    "plt.axvline(x=np.log1p(train.meter_reading.median()),linewidth=3, color='y', label=\"median\", alpha=0.5)\n",
    "\n",
    "# set title, legends and labels\n",
    "plt.title(\"Distribucion de logaritmo(Lectura por medidor + 1) \", size=14)\n",
    "plt.legend([\"promedio\", \"mediana\"])"
   ]
  },
  {
   "cell_type": "code",
   "execution_count": null,
   "metadata": {},
   "outputs": [],
   "source": [
    "# Promedio de mediciones por dia y por hora\n",
    "\n",
    "fig, axes = plt.subplots(1, 1, figsize=(14, 6), dpi=100)\n",
    "train[['timestamp', 'meter_reading']].set_index('timestamp').resample('H').mean()['meter_reading'].plot(ax=axes, label='Por hora', alpha=0.8).set_ylabel('Lectura por medidor', fontsize=14);\n",
    "train[['timestamp', 'meter_reading']].set_index('timestamp').resample('D').mean()['meter_reading'].plot(ax=axes, label='Por dia', alpha=1).set_ylabel('Lectura por medidor', fontsize=14);\n",
    "axes.set_title('Lectura promedio de medidor por hora y dia', fontsize=16);\n",
    "axes.legend();"
   ]
  },
  {
   "cell_type": "code",
   "execution_count": null,
   "metadata": {},
   "outputs": [],
   "source": [
    "# Detalle de promedio mediciones por site id (dia y hora)\n",
    "\n",
    "fig, axes = plt.subplots(8,2,figsize=(14, 30), dpi=100)\n",
    "for i in range(16):\n",
    "    if i == 8:\n",
    "        continue\n",
    "    train[train['site_id'] == i][['timestamp', 'meter_reading']].set_index('timestamp').resample('H').mean()['meter_reading'].plot(ax=axes[i%8][i//8], alpha=0.8, label='Por hora', color='tab:blue').set_ylabel('Lectura promedio de medidor', fontsize=13);\n",
    "    train[train['site_id'] == i][['timestamp', 'meter_reading']].set_index('timestamp').resample('D').mean()['meter_reading'].plot(ax=axes[i%8][i//8], alpha=1, label='Por dia', color='tab:orange').set_xlabel('');\n",
    "    axes[i%8][i//8].legend();\n",
    "    axes[i%8][i//8].set_title('site_id {}'.format(i), fontsize=13);\n",
    "    plt.subplots_adjust(hspace=0.45)"
   ]
  },
  {
   "cell_type": "code",
   "execution_count": null,
   "metadata": {},
   "outputs": [],
   "source": [
    "# correlaciones\n",
    "\n",
    "train.corr()"
   ]
  },
  {
   "cell_type": "markdown",
   "metadata": {},
   "source": [
    "<a id=\"section_medidor\"></a> \n",
    "## Por Medidor\n",
    "[volver a TOC](#section_toc)\n",
    "\n",
    "El código de identificación del medidor. Leer como {0: electricidad, 1: agua enfriada, 2: vapor, agua caliente: 3}. No todos los edificios tienen todos los tipos de medidores\n",
    "\n",
    "Parece que el vapor es la forma más ineficaz de calentar las cosas."
   ]
  },
  {
   "cell_type": "code",
   "execution_count": null,
   "metadata": {},
   "outputs": [],
   "source": [
    "train_data = train['meter'].value_counts(dropna=False, normalize=True).sort_index().values\n",
    "ind = np.arange(len(train_data))\n",
    "width = 0.35\n",
    "\n",
    "fig, axes = plt.subplots(1,1,figsize=(14, 6), dpi=100)\n",
    "tr = axes.bar(ind, train_data, width, color='royalblue')\n",
    "\n",
    "test_data = test['meter'].value_counts(dropna=False, normalize=True).sort_index().values\n",
    "tt = axes.bar(ind+width, test_data, width, color='seagreen')\n",
    "\n",
    "axes.set_ylabel('Numero normalizado de obervaciones');\n",
    "axes.set_xlabel('meter type');\n",
    "axes.set_xticks(ind + width / 2)\n",
    "axes.set_xticklabels(train['meter'].value_counts().sort_index().index, rotation=0)\n",
    "axes2 = axes.twinx()\n",
    "mr = axes2.plot(ind, train[['meter', 'meter_reading']].groupby('meter')['meter_reading'].mean().sort_index().values, 'D-', color='tab:orange', label='Lectura promedio de medidor');\n",
    "axes2.grid(False);\n",
    "axes2.tick_params(axis='y', labelcolor='tab:orange');\n",
    "axes2.set_ylabel('Mean meter reading by meter type', color='tab:orange');\n",
    "axes.legend([tr, tt], ['Train', 'Test'], facecolor='white');\n",
    "axes2.legend(loc=5, facecolor='white');"
   ]
  },
  {
   "cell_type": "markdown",
   "metadata": {},
   "source": [
    "### Boxplot de lectura de medidor por tipo de medidor con outliers removidos"
   ]
  },
  {
   "cell_type": "code",
   "execution_count": null,
   "metadata": {},
   "outputs": [],
   "source": [
    "fig, axes = plt.subplots(1, 1, figsize=(14, 6))\n",
    "sns.boxplot(x='meter', y='meter_reading', data=train, showfliers=False);"
   ]
  },
  {
   "cell_type": "code",
   "execution_count": null,
   "metadata": {},
   "outputs": [],
   "source": [
    "fig, axes = plt.subplots(1, 1, figsize=(14, 6))\n",
    "sns.boxplot(x='meter', y='meter_reading', data=train, showfliers=True);"
   ]
  },
  {
   "cell_type": "markdown",
   "metadata": {},
   "source": [
    "### Boxplot de temperatura de aire por tipo de medidor"
   ]
  },
  {
   "cell_type": "code",
   "execution_count": null,
   "metadata": {},
   "outputs": [],
   "source": [
    "tmp_df = pd.concat([train[['meter', 'air_temperature']], test[['meter', 'air_temperature']]], ignore_index=True)\n",
    "tmp_df['dataset'] = 'Train'\n",
    "tmp_df.loc[tmp_df.index > len(train), 'dataset'] = 'Test'\n",
    "\n",
    "fig, axes = plt.subplots(1, 1, figsize=(14, 6))\n",
    "sns.boxplot(x='meter', y='air_temperature', data=tmp_df, hue='dataset', palette=\"Set3\");\n",
    "\n",
    "del tmp_df\n",
    "gc.collect();"
   ]
  },
  {
   "cell_type": "markdown",
   "metadata": {},
   "source": [
    "<a id=\"section_site\"></a> \n",
    "## Por site_id\n",
    "[volver a TOC](#section_toc)"
   ]
  },
  {
   "cell_type": "code",
   "execution_count": null,
   "metadata": {},
   "outputs": [],
   "source": [
    "train_data = train['site_id'].value_counts(dropna=False, normalize=True).sort_index().values\n",
    "ind = np.arange(len(train_data))\n",
    "width = 0.35\n",
    "\n",
    "fig, axes = plt.subplots(1,1,figsize=(14, 6), dpi=100)\n",
    "tr = axes.bar(ind, train_data, width, color='royalblue')\n",
    "\n",
    "test_data = test['site_id'].value_counts(dropna=False, normalize=True).sort_index().values\n",
    "tt = axes.bar(ind+width, test_data, width, color='seagreen')\n",
    "\n",
    "axes.set_ylabel('Numero normalizado de observaciones');\n",
    "axes.set_xlabel('site_id');\n",
    "axes.set_xticks(ind + width / 2)\n",
    "axes.set_xticklabels(train['site_id'].value_counts().sort_index().index, rotation=0)\n",
    "axes2 = axes.twinx()\n",
    "mr = axes2.plot(ind, train[['site_id', 'meter_reading']].groupby('site_id')['meter_reading'].mean().sort_index().values, 'D-', color='tab:orange', label='Lectura promedio de medidor');axes2.grid(False);\n",
    "axes2.tick_params(axis='y', labelcolor='tab:orange');\n",
    "axes2.set_ylabel('Lectura promedio de medidor por site_id', color='tab:orange');\n",
    "axes.legend([tr, tt], ['Train', 'Test'], facecolor='white');\n",
    "axes2.legend(loc=2, facecolor='white');"
   ]
  },
  {
   "cell_type": "markdown",
   "metadata": {},
   "source": [
    "### Boxplot de lecturas de medidor por site_id con outliers removidos"
   ]
  },
  {
   "cell_type": "code",
   "execution_count": null,
   "metadata": {},
   "outputs": [],
   "source": [
    "fig, axes = plt.subplots(1, 1, figsize=(14, 6))\n",
    "sns.boxplot(x='site_id', y='meter_reading', data=train, showfliers=False);"
   ]
  },
  {
   "cell_type": "markdown",
   "metadata": {},
   "source": [
    "### Boxplot de temperatura de aire por site_id"
   ]
  },
  {
   "cell_type": "code",
   "execution_count": null,
   "metadata": {},
   "outputs": [],
   "source": [
    "tmp_df = pd.concat([train[['site_id', 'air_temperature']], test[['site_id', 'air_temperature']]], ignore_index=True)\n",
    "tmp_df['dataset'] = 'Train'\n",
    "tmp_df.loc[tmp_df.index > len(train), 'dataset'] = 'Test'\n",
    "\n",
    "fig, axes = plt.subplots(1, 1, figsize=(14, 6))\n",
    "sns.boxplot(x='site_id', y='air_temperature', data=tmp_df, hue='dataset', palette=\"Set3\");\n",
    "\n",
    "del tmp_df\n",
    "gc.collect();"
   ]
  },
  {
   "cell_type": "markdown",
   "metadata": {},
   "source": [
    "### Area de edificio en pies cuadrados"
   ]
  },
  {
   "cell_type": "code",
   "execution_count": null,
   "metadata": {},
   "outputs": [],
   "source": [
    "fig, axes = plt.subplots(2, 2, figsize=(14, 12))\n",
    "sns.kdeplot(train['square_feet'], ax=axes[0][0], label='Train');\n",
    "sns.kdeplot(test['square_feet'], ax=axes[0][0], label='Test');\n",
    "sns.boxplot(x=train['square_feet'], ax=axes[1][0]);\n",
    "sns.boxplot(x=test['square_feet'], ax=axes[1][1]);\n",
    "pd.DataFrame({'train': [train['square_feet'].isnull().sum()], 'test': [test['square_feet'].isnull().sum()]}).plot(kind='bar', rot=0, ax=axes[0][1]);\n",
    "axes[0][0].legend();\n",
    "axes[0][0].set_title('Train/Test KDE distribucion');\n",
    "axes[0][1].set_title('Cantidad de NaNs');\n",
    "axes[1][0].set_title('Boxplot para train');\n",
    "axes[1][1].set_title('Boxplot para test');\n",
    "gc.collect();"
   ]
  },
  {
   "cell_type": "markdown",
   "metadata": {},
   "source": [
    "### Promedio de lectura de medidor por building_id"
   ]
  },
  {
   "cell_type": "code",
   "execution_count": null,
   "metadata": {},
   "outputs": [],
   "source": [
    "fig, axes = plt.subplots(1,1,figsize=(14, 6))\n",
    "train.groupby('building_id')['meter_reading'].mean().plot();\n",
    "axes.set_title('Lectura promedio de medidor por building_id', fontsize=14);\n",
    "axes.set_ylabel('Lectura promedio de medidor', fontsize=14);"
   ]
  },
  {
   "cell_type": "markdown",
   "metadata": {},
   "source": [
    "### El building_ip 1099 tiene un consumo de vapor enorme. en la electrica no se da cuenta"
   ]
  },
  {
   "cell_type": "code",
   "execution_count": null,
   "metadata": {},
   "outputs": [],
   "source": [
    "fig, axes = plt.subplots(1, 2, figsize=(14, 6))\n",
    "train['site_id'].value_counts(dropna=False, normalize=True).sort_index().plot(kind='bar', rot=0, ax=axes[0]).set_xlabel('site_id value');\n",
    "train[train['building_id']!=1099]['site_id'].value_counts(dropna=False, normalize=True).sort_index().plot(kind='bar', rot=0, ax=axes[1]).set_xlabel('site_id value');\n",
    "ax2 = axes[0].twinx()\n",
    "ax3 = axes[1].twinx()\n",
    "train.groupby('site_id')['meter_reading'].mean().sort_index().plot(ax=ax2, style='D-', grid=False, color='tab:orange');\n",
    "train[train['building_id']!=1099].groupby('site_id')['meter_reading'].mean().sort_index().plot(ax=ax3, style='D-', grid=False, color='tab:orange');\n",
    "ax2.set_ylabel('Lectura promedio de medidor', color='tab:orange', fontsize=14);\n",
    "ax3.set_ylabel('Lectura promedio de medidor', color='tab:orange', fontsize=14);\n",
    "ax2.tick_params(axis='y', labelcolor='tab:orange');\n",
    "ax3.tick_params(axis='y', labelcolor='tab:orange');\n",
    "plt.subplots_adjust(wspace=0.4)\n",
    "axes[0].set_title('Con building_id 1099');\n",
    "axes[1].set_title('Sin building_id 1099');"
   ]
  },
  {
   "cell_type": "markdown",
   "metadata": {},
   "source": [
    "### Año de construccion"
   ]
  },
  {
   "cell_type": "code",
   "execution_count": null,
   "metadata": {},
   "outputs": [],
   "source": [
    "fig, axes = plt.subplots(1,1,figsize=(14, 6))\n",
    "train['year_built'].value_counts(dropna=False).sort_index().plot(ax=axes).set_xlabel('Año de construccion');\n",
    "test['year_built'].value_counts(dropna=False).sort_index().plot(ax=axes).set_ylabel('Numero de ejemplos');\n",
    "axes.legend(['Train', 'Test']);\n",
    "axes.set_title('Numero de ejemplos por año de construccion', fontsize=16);"
   ]
  },
  {
   "cell_type": "code",
   "execution_count": null,
   "metadata": {},
   "outputs": [],
   "source": [
    "fig, axes = plt.subplots(1,1,figsize=(14, 6))\n",
    "train.groupby('year_built')['meter_reading'].mean().plot().set_ylabel('Lectura promedio de medidor');\n",
    "axes.set_title('Lectura promedio de medidor por año de construccion del edificio', fontsize=16);"
   ]
  },
  {
   "cell_type": "code",
   "execution_count": null,
   "metadata": {},
   "outputs": [],
   "source": [
    "fig, axes = plt.subplots(2, 2, figsize=(14, 12))\n",
    "sns.kdeplot(train['year_built'], ax=axes[0][0], label='Train');\n",
    "sns.kdeplot(test['year_built'], ax=axes[0][0], label='Test');\n",
    "sns.boxplot(x=train['year_built'], ax=axes[1][0]);\n",
    "sns.boxplot(x=test['year_built'], ax=axes[1][1]);\n",
    "pd.DataFrame({'train': [train['year_built'].isnull().sum()], 'test': [test['year_built'].isnull().sum()]}).plot(kind='bar', rot=0, ax=axes[0][1]);\n",
    "axes[0][0].legend();\n",
    "axes[0][0].set_title('Train/Test KDE distribution');\n",
    "axes[0][1].set_title('Number of NaNs');\n",
    "axes[1][0].set_title('Boxplot for train');\n",
    "axes[1][1].set_title('Boxplot for test');\n",
    "gc.collect();"
   ]
  },
  {
   "cell_type": "markdown",
   "metadata": {},
   "source": [
    "### Numero de pisos de los edificios"
   ]
  },
  {
   "cell_type": "code",
   "execution_count": null,
   "metadata": {},
   "outputs": [],
   "source": [
    "fig, axes = plt.subplots(1, 2, figsize=(14, 6))\n",
    "sns.kdeplot(train['floor_count'], label='Train', ax=axes[0]);\n",
    "sns.kdeplot(test['floor_count'], label='Test', ax=axes[0]);\n",
    "test.index += len(train)\n",
    "axes[1].plot(train['floor_count'], '.', label='Train');\n",
    "axes[1].plot(test['floor_count'], '.', label='Test');\n",
    "test.index -= len(train)\n",
    "axes[0].set_title('Train/Test KDE distribucion');\n",
    "axes[1].set_title('Index versus valor: Train/Test distribucion');\n",
    "gc.collect();"
   ]
  },
  {
   "cell_type": "code",
   "execution_count": null,
   "metadata": {},
   "outputs": [],
   "source": [
    "fig, axes = plt.subplots(1,1,figsize=(14, 6))\n",
    "pd.Series(index=train['floor_count'].value_counts().index, \n",
    "          data=train.groupby('floor_count')['meter_reading'].transform('mean').value_counts().index).sort_index().plot(kind='bar', rot=0, ax=axes);\n",
    "axes.set_xlabel('Cuenta de pisos');\n",
    "axes.set_ylabel('Lectura promedio de medidor');\n",
    "axes.set_title('Lectura promedio de medidor por cuentas de piso');"
   ]
  },
  {
   "cell_type": "markdown",
   "metadata": {},
   "source": [
    "### Cuenta de NaN en los pisos"
   ]
  },
  {
   "cell_type": "code",
   "execution_count": null,
   "metadata": {},
   "outputs": [],
   "source": [
    "pd.DataFrame({'train': [train['floor_count'].isnull().sum()], 'test': [test['floor_count'].isnull().sum()]}).plot(kind='bar', rot=0);"
   ]
  },
  {
   "cell_type": "markdown",
   "metadata": {},
   "source": [
    "<a id=\"section_temperatura\"></a> \n",
    "## Por Temperatura\n",
    "[volver a TOC](#section_toc)"
   ]
  },
  {
   "cell_type": "code",
   "execution_count": null,
   "metadata": {},
   "outputs": [],
   "source": [
    "fig, axes = plt.subplots(1,1,figsize=(14, 6), dpi=100)\n",
    "train[['timestamp', 'air_temperature']].set_index('timestamp').resample('H').mean()['air_temperature'].plot(ax=axes, alpha=0.8, label='Por hora', color='tab:blue').set_ylabel('Temperature promedio', fontsize=14);\n",
    "test[['timestamp', 'air_temperature']].set_index('timestamp').resample('H').mean()['air_temperature'].plot(ax=axes, alpha=0.8, color='tab:blue', label='');\n",
    "train[['timestamp', 'air_temperature']].set_index('timestamp').resample('D').mean()['air_temperature'].plot(ax=axes, alpha=1, label='Por dia', color='tab:orange');\n",
    "test[['timestamp', 'air_temperature']].set_index('timestamp').resample('D').mean()['air_temperature'].plot(ax=axes, alpha=1, color='tab:orange', label='');\n",
    "axes.legend();\n",
    "axes.text(train['timestamp'].iloc[2000000], -3, 'Train', fontsize=16);\n",
    "axes.text(test['timestamp'].iloc[2740000], 30, 'Test', fontsize=16);\n",
    "axes.axvspan(test['timestamp'].min(), test['timestamp'].max(), facecolor='green', alpha=0.2);"
   ]
  },
  {
   "cell_type": "code",
   "execution_count": null,
   "metadata": {},
   "outputs": [],
   "source": [
    "fig, axes = plt.subplots(8,2,figsize=(14, 30), dpi=100)\n",
    "for i in range(16):\n",
    "    if i == 8:\n",
    "        continue\n",
    "    \n",
    "    train[train['site_id'] == i][['timestamp', 'air_temperature']].set_index('timestamp').resample('H').mean()['air_temperature'].plot(ax=axes[i%8][i//8], alpha=0.8, label='By hour', color='tab:blue').set_ylabel('Temperatura promedio', fontsize=13);\n",
    "    test[test['site_id'] == i][['timestamp', 'air_temperature']].set_index('timestamp').resample('H').mean()['air_temperature'].plot(ax=axes[i%8][i//8], alpha=0.8, color='tab:blue', label='').set_xlabel('')\n",
    "    train[train['site_id'] == i][['timestamp', 'air_temperature']].set_index('timestamp').resample('D').mean()['air_temperature'].plot(ax=axes[i%8][i//8], alpha=1, label='By day', color='tab:orange')\n",
    "    test[test['site_id'] == i][['timestamp', 'air_temperature']].set_index('timestamp').resample('D').mean()['air_temperature'].plot(ax=axes[i%8][i//8], alpha=1, color='tab:orange', label='').set_xlabel('')\n",
    "    axes[i%8][i//8].legend();\n",
    "    axes[i%8][i//8].set_title('site_id {}'.format(i), fontsize=13);\n",
    "    axes[i%8][i//8].axvspan(test['timestamp'].min(), test['timestamp'].max(), facecolor='green', alpha=0.2);\n",
    "    plt.subplots_adjust(hspace=0.45)"
   ]
  },
  {
   "cell_type": "markdown",
   "metadata": {},
   "source": [
    "### Porcentaje de cielo cubierto medido en oktas (cloud coverage)"
   ]
  },
  {
   "cell_type": "code",
   "execution_count": null,
   "metadata": {},
   "outputs": [],
   "source": [
    "fig, axes = plt.subplots(1, 2, figsize=(14, 6), dpi=100)\n",
    "train['cloud_coverage'].value_counts(dropna=False, normalize=True).sort_index().plot(kind='bar', rot=0, ax=axes[0]).set_xlabel('cloud_coverage value');\n",
    "test['cloud_coverage'].value_counts(dropna=False, normalize=True).sort_index().plot(kind='bar', rot=0, ax=axes[1]).set_xlabel('cloud_coverage values');\n",
    "axes[0].set_title('Distribucion en train', fontsize=14);\n",
    "axes[1].set_title('Distribucion en test', fontsize=14);\n",
    "ax2 = axes[0].twinx()\n",
    "train[['cloud_coverage', 'meter_reading']].replace(np.nan, 'nan').groupby('cloud_coverage')['meter_reading'].mean().plot(ax=ax2, style='D-', grid=False, color='tab:orange');\n",
    "ax2.tick_params(axis='y', labelcolor='tab:orange');\n",
    "ax2.set_ylabel('Lectura promedio de medidor', color='tab:orange', fontsize=14);\n",
    "ax2.set_xticklabels(train['cloud_coverage'].value_counts(dropna=False).sort_index().index)\n",
    "plt.subplots_adjust(wspace=0.4);"
   ]
  },
  {
   "cell_type": "markdown",
   "metadata": {},
   "source": [
    "### Punto de rocio"
   ]
  },
  {
   "cell_type": "code",
   "execution_count": null,
   "metadata": {},
   "outputs": [],
   "source": [
    "fig, axes = plt.subplots(1,1,figsize=(14, 6), dpi=100)\n",
    "train[['timestamp', 'dew_temperature']].set_index('timestamp').resample('H').mean()['dew_temperature'].plot(ax=axes, alpha=0.8, label='Por hora', color='tab:blue').set_ylabel('Promedio punto de rocio', fontsize=14);\n",
    "test[['timestamp', 'dew_temperature']].set_index('timestamp').resample('H').mean()['dew_temperature'].plot(ax=axes, alpha=0.8, color='tab:blue', label='');\n",
    "train[['timestamp', 'dew_temperature']].set_index('timestamp').resample('D').mean()['dew_temperature'].plot(ax=axes, alpha=1, label='Por dia', color='tab:orange');\n",
    "test[['timestamp', 'dew_temperature']].set_index('timestamp').resample('D').mean()['dew_temperature'].plot(ax=axes, alpha=1, color='tab:orange', label='');\n",
    "axes.legend();\n",
    "axes.text(train['timestamp'].iloc[2000000], -5, 'Train', fontsize=16);\n",
    "axes.text(test['timestamp'].iloc[2740000], 16, 'Test', fontsize=16);\n",
    "axes.axvspan(test['timestamp'].min(), test['timestamp'].max(), facecolor='green', alpha=0.2);"
   ]
  },
  {
   "cell_type": "markdown",
   "metadata": {},
   "source": [
    "### Promedio punto de rocio por site_id"
   ]
  },
  {
   "cell_type": "code",
   "execution_count": null,
   "metadata": {},
   "outputs": [],
   "source": [
    "fig, axes = plt.subplots(8,2,figsize=(14, 30), dpi=100)\n",
    "for i in range(16):\n",
    "    if i == 8:\n",
    "        continue\n",
    "    \n",
    "    train[train['site_id'] == i][['timestamp', 'dew_temperature']].set_index('timestamp').resample('H').mean()['dew_temperature'].plot(ax=axes[i%8][i//8], alpha=0.8, label='By hour', color='tab:blue').set_ylabel('Promedio punto de rocio', fontsize=13);\n",
    "    test[test['site_id'] == i][['timestamp', 'dew_temperature']].set_index('timestamp').resample('H').mean()['dew_temperature'].plot(ax=axes[i%8][i//8], alpha=0.8, color='tab:blue', label='').set_xlabel('')\n",
    "    train[train['site_id'] == i][['timestamp', 'dew_temperature']].set_index('timestamp').resample('D').mean()['dew_temperature'].plot(ax=axes[i%8][i//8], alpha=1, label='By day', color='tab:orange')\n",
    "    test[test['site_id'] == i][['timestamp', 'dew_temperature']].set_index('timestamp').resample('D').mean()['dew_temperature'].plot(ax=axes[i%8][i//8], alpha=1, color='tab:orange', label='').set_xlabel('')\n",
    "    axes[i%8][i//8].legend();\n",
    "    axes[i%8][i//8].set_title('site_id {}'.format(i), fontsize=13);\n",
    "    axes[i%8][i//8].axvspan(test['timestamp'].min(), test['timestamp'].max(), facecolor='green', alpha=0.2);\n",
    "    plt.subplots_adjust(hspace=0.45)"
   ]
  },
  {
   "cell_type": "markdown",
   "metadata": {},
   "source": [
    "## Precipitacion 1 hr"
   ]
  },
  {
   "cell_type": "code",
   "execution_count": null,
   "metadata": {},
   "outputs": [],
   "source": [
    "fig, axes = plt.subplots(1,1,figsize=(14, 6), dpi=100)\n",
    "train[['timestamp', 'precip_depth_1_hr']].set_index('timestamp').resample('M').mean()['precip_depth_1_hr'].plot(ax=axes, alpha=0.8, label='By month', color='tab:blue').set_ylabel('Promedio precipitacion 1 hr', fontsize=14);\n",
    "test[['timestamp', 'precip_depth_1_hr']].set_index('timestamp').resample('M').mean()['precip_depth_1_hr'].plot(ax=axes, alpha=0.8, color='tab:blue', label='');\n",
    "axes.legend();"
   ]
  },
  {
   "cell_type": "markdown",
   "metadata": {},
   "source": [
    "## Presion del nivel del mar (Millibar/hectopascals)"
   ]
  },
  {
   "cell_type": "code",
   "execution_count": null,
   "metadata": {},
   "outputs": [],
   "source": [
    "fig, axes = plt.subplots(1,1,figsize=(14, 6), dpi=100)\n",
    "train[['timestamp', 'sea_level_pressure']].set_index('timestamp').resample('H').mean()['sea_level_pressure'].plot(ax=axes, alpha=0.8, label='By hour', color='tab:blue').set_ylabel('Promedio presion del nivel del mar', fontsize=14);\n",
    "test[['timestamp', 'sea_level_pressure']].set_index('timestamp').resample('H').mean()['sea_level_pressure'].plot(ax=axes, alpha=0.8, color='tab:blue', label='');\n",
    "train[['timestamp', 'sea_level_pressure']].set_index('timestamp').resample('D').mean()['sea_level_pressure'].plot(ax=axes, alpha=1, label='By day', color='tab:orange');\n",
    "test[['timestamp', 'sea_level_pressure']].set_index('timestamp').resample('D').mean()['sea_level_pressure'].plot(ax=axes, alpha=1, color='tab:orange', label='');\n",
    "axes.legend();\n",
    "axes.text(train['timestamp'].iloc[250000], 1004, 'Train', fontsize=16);\n",
    "axes.text(test['timestamp'].iloc[2700000], 1032, 'Test', fontsize=16);\n",
    "axes.axvspan(test['timestamp'].min(), test['timestamp'].max(), facecolor='green', alpha=0.2);"
   ]
  },
  {
   "cell_type": "markdown",
   "metadata": {},
   "source": [
    "## Por site_id"
   ]
  },
  {
   "cell_type": "code",
   "execution_count": null,
   "metadata": {},
   "outputs": [],
   "source": [
    "fig, axes = plt.subplots(8,2,figsize=(14, 30), dpi=100)\n",
    "for i in range(16):\n",
    "    if i == 8:\n",
    "        continue\n",
    "    train[train['site_id'] == i][['timestamp', 'sea_level_pressure']].set_index('timestamp').resample('H').mean()['sea_level_pressure'].plot(ax=axes[i%8][i//8], alpha=0.8, label='By hour', color='tab:blue').set_ylabel('Promedio presion nivel del mar', fontsize=13);\n",
    "    test[test['site_id'] == i][['timestamp', 'sea_level_pressure']].set_index('timestamp').resample('H').mean()['sea_level_pressure'].plot(ax=axes[i%8][i//8], alpha=0.8, color='tab:blue', label='').set_xlabel('')\n",
    "    train[train['site_id'] == i][['timestamp', 'sea_level_pressure']].set_index('timestamp').resample('D').mean()['sea_level_pressure'].plot(ax=axes[i%8][i//8], alpha=1, label='By day', color='tab:orange')\n",
    "    test[test['site_id'] == i][['timestamp', 'sea_level_pressure']].set_index('timestamp').resample('D').mean()['sea_level_pressure'].plot(ax=axes[i%8][i//8], alpha=1, color='tab:orange', label='').set_xlabel('')\n",
    "    axes[i%8][i//8].legend();\n",
    "    axes[i%8][i//8].set_title('site_id {}'.format(i), fontsize=13);\n",
    "    axes[i%8][i//8].axvspan(test['timestamp'].min(), test['timestamp'].max(), facecolor='green', alpha=0.2);\n",
    "    plt.subplots_adjust(hspace=0.45)"
   ]
  },
  {
   "cell_type": "markdown",
   "metadata": {},
   "source": [
    "## Direccion y velocidad del viento"
   ]
  },
  {
   "cell_type": "code",
   "execution_count": null,
   "metadata": {},
   "outputs": [],
   "source": [
    "print('Numero de observaciones con 0 grados de direccion en TRAIN: {} ({:.2f}%)'.format(train[train['wind_direction'] == 0].shape[0], train[train['wind_direction'] == 0].shape[0] / len(train)))\n",
    "print('Numero de observaciones con 0 grados de direccion en TEST: {} ({:.2f}%)'.format(test[test['wind_direction'] == 0].shape[0], test[test['wind_direction'] == 0].shape[0] / len(test)))\n",
    "print('Numero de observaciones con 360 grados de direccion en TRAIN: {} ({:.2f}%)'.format(train[train['wind_direction'] == 360].shape[0], train[train['wind_direction'] == 360].shape[0] / len(train)))\n",
    "print('Numero de observaciones con 360 grados de direccion en TEST: {} ({:.2f}%)'.format(test[test['wind_direction'] == 360].shape[0], test[test['wind_direction'] == 360].shape[0] / len(test)))"
   ]
  },
  {
   "cell_type": "code",
   "execution_count": null,
   "metadata": {},
   "outputs": [],
   "source": [
    "print('Numero de observaciones con condiciones tranquilas en TRAIN: {} ({:.2f}%)'.format(train[train['wind_speed'] == 0].shape[0], train[train['wind_speed'] == 0].shape[0] / len(train)))\n",
    "print('Numero de observaciones con condiciones tranquilas en  TEST: {} ({:.2f}%)'.format(test[test['wind_speed'] == 0].shape[0], test[test['wind_speed'] == 0].shape[0] / len(test)))"
   ]
  },
  {
   "cell_type": "code",
   "execution_count": null,
   "metadata": {},
   "outputs": [],
   "source": [
    "def speed_labels(bins:list, units:str) -> list:   \n",
    "    labels = list()\n",
    "    for left, right in zip(bins[:-1], bins[1:]):\n",
    "        if left == bins[0]:\n",
    "            labels.append('calm'.format(right))\n",
    "        elif np.isinf(right):\n",
    "            labels.append('>{} {}'.format(left, units))\n",
    "        else:\n",
    "            labels.append('{} - {} {}'.format(left, right, units))\n",
    "    return labels\n",
    "\n",
    "def _convert_dir(directions, N=None):\n",
    "    if N is None:\n",
    "        N = directions.shape[0]\n",
    "    barDir = directions * np.pi/180. - np.pi/N\n",
    "    barWidth = 2 * np.pi / N\n",
    "    return barDir, barWidth\n",
    "\n",
    "spd_bins = [-1, 0, 5, 10, 15, 20, 25, 30, np.inf]\n",
    "spd_labels = speed_labels(spd_bins, units='m/s')\n",
    "\n",
    "dir_bins = np.arange(-7.5, 370, 15)\n",
    "dir_labels = (dir_bins[:-1] + dir_bins[1:]) / 2"
   ]
  },
  {
   "cell_type": "code",
   "execution_count": null,
   "metadata": {},
   "outputs": [],
   "source": [
    "calm_count = train[train['wind_speed'] == 0].shape[0]\n",
    "total_count = len(train)\n",
    "rose = (train.assign(WindSpd_bins=lambda df:\n",
    "            pd.cut(df['wind_speed'], bins=spd_bins, labels=spd_labels, right=True)).assign(WindDir_bins=lambda df: pd.cut(df['wind_direction'], bins=dir_bins, labels=dir_labels, right=False)).replace({'WindDir_bins': {360: 0}}).groupby(by=['WindSpd_bins', 'WindDir_bins']).size().unstack(level='WindSpd_bins').fillna(0).assign(calm=lambda df: calm_count / df.shape[0]).sort_index(axis=1).applymap(lambda x: x / total_count * 100))\n",
    "rose.drop(rose.index[0], inplace=True)\n",
    "directions = np.arange(0, 360, 15)"
   ]
  },
  {
   "cell_type": "markdown",
   "metadata": {},
   "source": [
    "<a id=\"section_rosa\"></a> \n",
    "## Vientos\n",
    "[volver a TOC](#section_toc)\n"
   ]
  },
  {
   "cell_type": "code",
   "execution_count": null,
   "metadata": {},
   "outputs": [],
   "source": [
    "def speed_labels(bins:list, units:str) -> list:   \n",
    "    labels = list()\n",
    "    for left, right in zip(bins[:-1], bins[1:]):\n",
    "        if left == bins[0]:\n",
    "            labels.append('calm'.format(right))\n",
    "        elif np.isinf(right):\n",
    "            labels.append('>{} {}'.format(left, units))\n",
    "        else:\n",
    "            labels.append('{} - {} {}'.format(left, right, units))\n",
    "    return labels\n",
    "\n",
    "def _convert_dir(directions, N=None):\n",
    "    if N is None:\n",
    "        N = directions.shape[0]\n",
    "    barDir = directions * np.pi/180. - np.pi/N\n",
    "    barWidth = 2 * np.pi / N\n",
    "    return barDir, barWidth\n",
    "\n",
    "spd_bins = [-1, 0, 5, 10, 15, 20, 25, 30, np.inf]\n",
    "spd_labels = speed_labels(spd_bins, units='m/s')\n",
    "\n",
    "dir_bins = np.arange(-7.5, 370, 15)\n",
    "dir_labels = (dir_bins[:-1] + dir_bins[1:]) / 2"
   ]
  },
  {
   "cell_type": "code",
   "execution_count": null,
   "metadata": {},
   "outputs": [],
   "source": [
    "calm_count = train[train['wind_speed'] == 0].shape[0]\n",
    "total_count = len(train)\n",
    "rose = (train.assign(WindSpd_bins=lambda df:\n",
    "            pd.cut(df['wind_speed'], bins=spd_bins, labels=spd_labels, right=True)).assign(WindDir_bins=lambda df: pd.cut(df['wind_direction'], bins=dir_bins, labels=dir_labels, right=False)).replace({'WindDir_bins': {360: 0}}).groupby(by=['WindSpd_bins', 'WindDir_bins']).size().unstack(level='WindSpd_bins').fillna(0).assign(calm=lambda df: calm_count / df.shape[0]).sort_index(axis=1).applymap(lambda x: x / total_count * 100))\n",
    "#rose.drop(rose.index[0], inplace=True)\n",
    "directions = np.arange(0, 360, 15)"
   ]
  },
  {
   "cell_type": "code",
   "execution_count": null,
   "metadata": {},
   "outputs": [],
   "source": [
    "def wind_rose(rosedata, wind_dirs, palette=None):\n",
    "    if palette is None:\n",
    "        palette = sns.color_palette('inferno', n_colors=rosedata.shape[1])\n",
    "\n",
    "    bar_dir, bar_width = _convert_dir(wind_dirs)\n",
    "\n",
    "    fig, ax = plt.subplots(figsize=(10, 10), subplot_kw=dict(polar=True))\n",
    "    ax.set_theta_direction('clockwise')\n",
    "    ax.set_theta_zero_location('N')\n",
    "\n",
    "    for n, (c1, c2) in enumerate(zip(rosedata.columns[:-1], rosedata.columns[1:])):\n",
    "        if n == 0:\n",
    "            # first column only\n",
    "            ax.bar(bar_dir, rosedata[c1].values, \n",
    "                   width=bar_width,\n",
    "                   color=palette[0],\n",
    "                   edgecolor='none',\n",
    "                   label=c1,\n",
    "                   linewidth=0)\n",
    "\n",
    "        # all other columns\n",
    "        ax.bar(bar_dir, rosedata[c2].values, \n",
    "               width=bar_width, \n",
    "               bottom=rosedata.cumsum(axis=1)[c1].values,\n",
    "               color=palette[n+1],\n",
    "               edgecolor='none',\n",
    "               label=c2,\n",
    "               linewidth=0)\n",
    "\n",
    "    leg = ax.legend(loc=(0.75, 0.95), ncol=2)\n",
    "    xtl = ax.set_xticklabels(['N', 'NE', 'E', 'SE', 'S', 'SW', 'W', 'NW'])\n",
    "    \n",
    "    return fig"
   ]
  },
  {
   "cell_type": "markdown",
   "metadata": {},
   "source": [
    "## Direccion de viento sobre train"
   ]
  },
  {
   "cell_type": "code",
   "execution_count": null,
   "metadata": {},
   "outputs": [],
   "source": [
    "fig = wind_rose(rose, directions)"
   ]
  },
  {
   "cell_type": "markdown",
   "metadata": {},
   "source": [
    "## Direccion de viento sobre test"
   ]
  },
  {
   "cell_type": "code",
   "execution_count": null,
   "metadata": {},
   "outputs": [],
   "source": [
    "calm_count = test[test['wind_speed'] == 0].shape[0]\n",
    "total_count = len(test)\n",
    "rose = (test.assign(WindSpd_bins=lambda df:\n",
    "            pd.cut(df['wind_speed'], bins=spd_bins, labels=spd_labels, right=True)).assign(WindDir_bins=lambda df: pd.cut(df['wind_direction'], bins=dir_bins, labels=dir_labels, right=False)).replace({'WindDir_bins': {360: 0}}).groupby(by=['WindSpd_bins', 'WindDir_bins']).size().unstack(level='WindSpd_bins').fillna(0).assign(calm=lambda df: calm_count / df.shape[0]).sort_index(axis=1).applymap(lambda x: x / total_count * 100))"
   ]
  },
  {
   "cell_type": "code",
   "execution_count": null,
   "metadata": {},
   "outputs": [],
   "source": [
    "fig = wind_rose(rose, directions)"
   ]
  },
  {
   "cell_type": "markdown",
   "metadata": {},
   "source": [
    "<a id=\"section_eng_feat\"></a> \n",
    "## Feature engineering\n",
    "[volver a TOC](#section_toc)\n",
    "\n",
    "Vamos a agregar algunas características nuevas enfocadas a las series de tiempo"
   ]
  },
  {
   "cell_type": "markdown",
   "metadata": {},
   "source": [
    "## Hora de la observacion"
   ]
  },
  {
   "cell_type": "code",
   "execution_count": null,
   "metadata": {},
   "outputs": [],
   "source": [
    "train['hour'] = train['timestamp'].dt.hour\n",
    "test['hour'] = test['timestamp'].dt.hour"
   ]
  },
  {
   "cell_type": "code",
   "execution_count": null,
   "metadata": {},
   "outputs": [],
   "source": [
    "train_data = train['hour'].value_counts(dropna=False, normalize=True).sort_index().values\n",
    "ind = np.arange(len(train_data))\n",
    "width = 0.35\n",
    "\n",
    "fig, axes = plt.subplots(1,1,figsize=(14, 6), dpi=100)\n",
    "tr = axes.bar(ind, train_data, width, color='royalblue')\n",
    "\n",
    "test_data = test['hour'].value_counts(dropna=False, normalize=True).sort_index().values\n",
    "tt = axes.bar(ind+width, test_data, width, color='seagreen')\n",
    "\n",
    "axes.set_ylabel('Numero normalizado de observaciones');\n",
    "axes.set_xlabel('Hour');\n",
    "axes.set_xticks(ind + width / 2)\n",
    "axes.set_xticklabels(train['hour'].value_counts().sort_index().index, rotation=0)\n",
    "axes2 = axes.twinx()\n",
    "mr = axes2.plot(ind, train[['hour', 'meter_reading']].groupby('hour')['meter_reading'].mean().sort_index().values, 'D-', color='tab:orange', label='Lectura promedio de medidor');\n",
    "axes2.grid(False);\n",
    "axes2.tick_params(axis='y', labelcolor='tab:orange');\n",
    "axes2.set_ylabel('Lectura promedio de medidor por hora', color='tab:orange');\n",
    "axes.legend([tr, tt], ['Train', 'Test'], facecolor='white');\n",
    "axes2.legend(loc=2, facecolor='white');"
   ]
  },
  {
   "cell_type": "markdown",
   "metadata": {},
   "source": [
    "## Observaciones dia del mes\n"
   ]
  },
  {
   "cell_type": "code",
   "execution_count": null,
   "metadata": {},
   "outputs": [],
   "source": [
    "train['day'] = train['timestamp'].dt.day\n",
    "test['day'] = test['timestamp'].dt.day"
   ]
  },
  {
   "cell_type": "code",
   "execution_count": null,
   "metadata": {},
   "outputs": [],
   "source": [
    "train_data = train['day'].value_counts(dropna=False, normalize=True).sort_index().values\n",
    "ind = np.arange(len(train_data))\n",
    "width = 0.35\n",
    "\n",
    "fig, axes = plt.subplots(1,1,figsize=(14, 6), dpi=100)\n",
    "tr = axes.bar(ind, train_data, width, color='royalblue')\n",
    "\n",
    "test_data = test['day'].value_counts(dropna=False, normalize=True).sort_index().values\n",
    "tt = axes.bar(ind+width, test_data, width, color='seagreen')\n",
    "\n",
    "axes.set_ylabel('Numero normalizado de observaciones');\n",
    "axes.set_xlabel('day');\n",
    "axes.set_xticks(ind + width / 2)\n",
    "axes.set_xticklabels(train['day'].value_counts().sort_index().index, rotation=0)\n",
    "axes2 = axes.twinx()\n",
    "mr = axes2.plot(ind, train[['day', 'meter_reading']].groupby('day')['meter_reading'].mean().sort_index().values, 'D-', color='tab:orange', label='Lectura promedio de medidor');\n",
    "axes2.grid(False);\n",
    "axes2.tick_params(axis='y', labelcolor='tab:orange');\n",
    "axes2.set_ylabel('Lectura promedio de medidor por dia del mes', color='tab:orange');\n",
    "axes.legend([tr, tt], ['Train', 'Test'], facecolor='white');\n",
    "axes2.legend(loc=2, facecolor='white');"
   ]
  },
  {
   "cell_type": "markdown",
   "metadata": {},
   "source": [
    "## Observaciones dia de la semana"
   ]
  },
  {
   "cell_type": "code",
   "execution_count": null,
   "metadata": {},
   "outputs": [],
   "source": [
    "train['weekday'] = train['timestamp'].dt.weekday\n",
    "test['weekday'] = test['timestamp'].dt.weekday"
   ]
  },
  {
   "cell_type": "code",
   "execution_count": null,
   "metadata": {},
   "outputs": [],
   "source": [
    "train_data = train['weekday'].value_counts(dropna=False, normalize=True).sort_index().values\n",
    "ind = np.arange(len(train_data))\n",
    "width = 0.35\n",
    "\n",
    "fig, axes = plt.subplots(1,1,figsize=(14, 6), dpi=100)\n",
    "tr = axes.bar(ind, train_data, width, color='royalblue')\n",
    "\n",
    "test_data = test['weekday'].value_counts(dropna=False, normalize=True).sort_index().values\n",
    "tt = axes.bar(ind+width, test_data, width, color='seagreen')\n",
    "\n",
    "axes.set_ylabel('Numero normalizado de observaciones');\n",
    "axes.set_xlabel('Dia de la semana');\n",
    "axes.set_xticks(ind + width / 2)\n",
    "axes2 = axes.twinx()\n",
    "mr = axes2.plot(ind, train[['weekday', 'meter_reading']].groupby('weekday')['meter_reading'].mean().sort_index().values, 'D-', color='tab:orange', label='Lectura promedio de medidor ');\n",
    "axes2.grid(False);\n",
    "axes2.tick_params(axis='y', labelcolor='tab:orange');\n",
    "axes2.set_ylabel('Lectura promedio de medidor por dia de la semana', color='tab:orange');\n",
    "axes.legend([tr, tt], ['Train', 'Test'], facecolor='white');\n",
    "axes2.legend(loc=2, facecolor='white');\n",
    "\n",
    "axes.set_xticklabels(train['weekday'].value_counts().sort_index().index.map({0: 'Lunes', 1: 'Martes', 2: 'Miercoles', 3: 'Jueves', 4: 'Viernes', 5: 'Sabado', 6: 'Domingo'}), rotation=40);"
   ]
  },
  {
   "cell_type": "code",
   "execution_count": null,
   "metadata": {},
   "outputs": [],
   "source": [
    "# para manejar fechas\n",
    "from datetime import datetime\n",
    "\n",
    "current_year = datetime.now().year\n",
    "\n",
    "# train\n",
    "train['building_age'] = current_year - train.year_built\n",
    "train.drop(columns=['year_built'], inplace=True)\n",
    "# usamos fillna dado que tenemos NA en nuestra nueva columna\n",
    "train.building_age.fillna(round(train.building_age.mean(),0),inplace=True)\n",
    "\n",
    "# test\n",
    "test['building_age'] = current_year - test.year_built\n",
    "test.drop(columns=['year_built'], inplace=True)\n",
    "# usamos fillna dado que tenemos NA en nuestra nueva columna\n",
    "test.building_age.fillna(round(test.building_age.mean(),0),inplace=True)"
   ]
  },
  {
   "cell_type": "code",
   "execution_count": null,
   "metadata": {},
   "outputs": [],
   "source": [
    "train.info()"
   ]
  },
  {
   "cell_type": "code",
   "execution_count": null,
   "metadata": {},
   "outputs": [],
   "source": [
    "test.info()"
   ]
  },
  {
   "cell_type": "code",
   "execution_count": null,
   "metadata": {},
   "outputs": [],
   "source": [
    "train.head()"
   ]
  },
  {
   "cell_type": "markdown",
   "metadata": {},
   "source": [
    "<a id=\"section_no_out\"></a> \n",
    "## DataSets sin outliers\n",
    "[volver a TOC](#section_toc)"
   ]
  },
  {
   "cell_type": "code",
   "execution_count": null,
   "metadata": {},
   "outputs": [],
   "source": [
    "def convert_direction(degrees):\n",
    "    if degrees <= 90:\n",
    "        return 0\n",
    "    elif degrees <= 180:\n",
    "        return 1\n",
    "    elif degrees <= 270:\n",
    "        return 2\n",
    "    elif degrees <= 360:\n",
    "        return 3\n",
    "\n",
    "train['wind_compass_direction'] = train.wind_direction.apply(convert_direction)\n",
    "test['wind_compass_direction'] = test.wind_direction.apply(convert_direction)\n",
    "\n",
    "train.drop(columns=['wind_direction'], inplace=True)\n",
    "test.drop(columns=['wind_direction'], inplace=True)"
   ]
  },
  {
   "cell_type": "code",
   "execution_count": null,
   "metadata": {},
   "outputs": [],
   "source": [
    "train_orig = train "
   ]
  },
  {
   "cell_type": "code",
   "execution_count": null,
   "metadata": {},
   "outputs": [],
   "source": [
    "def detect_outlier(data):\n",
    "    # find q1 and q3 values\n",
    "    q1, q3 = np.percentile(sorted(data), [25, 75])\n",
    "    # compute IRQ\n",
    "    iqr = q3 - q1\n",
    "    # find lower and upper bounds\n",
    "    lower_bound = q1 - (1.5 * iqr)\n",
    "    upper_bound = q3 + (1.5 * iqr)\n",
    "    outliers = [x for x in data if x <= lower_bound or x >= upper_bound]\n",
    "    return (lower_bound,upper_bound)"
   ]
  },
  {
   "cell_type": "code",
   "execution_count": null,
   "metadata": {},
   "outputs": [],
   "source": [
    "train_lower_bound, train_upper_bound = detect_outlier(train['meter_reading'])\n",
    "#test_lower_bound, test_upper_bound = detect_outlier(test['meter_reading'])"
   ]
  },
  {
   "cell_type": "code",
   "execution_count": null,
   "metadata": {},
   "outputs": [],
   "source": [
    "print([train_lower_bound,train_upper_bound])\n",
    "\n",
    "upper_bound_mask = train['meter_reading'] <= train_upper_bound\n",
    "train_ub = train.loc[upper_bound_mask,:]\n",
    "\n",
    "lower_bound_mask = train['meter_reading'] >= train_lower_bound\n",
    "train_lb = train.loc[lower_bound_mask,:]\n",
    "\n",
    "print(train_ub.shape[0])\n",
    "print(train_lb.shape[0])"
   ]
  },
  {
   "cell_type": "code",
   "execution_count": null,
   "metadata": {},
   "outputs": [],
   "source": [
    "train.shape"
   ]
  },
  {
   "cell_type": "code",
   "execution_count": null,
   "metadata": {},
   "outputs": [],
   "source": [
    "train_lb.site_id.value_counts()"
   ]
  },
  {
   "cell_type": "code",
   "execution_count": null,
   "metadata": {},
   "outputs": [],
   "source": [
    "# nos quedamos con el nuevo dataset para train\n",
    "train = train_ub\n",
    "train.shape"
   ]
  },
  {
   "cell_type": "code",
   "execution_count": null,
   "metadata": {},
   "outputs": [],
   "source": [
    "fig, axes = plt.subplots(8,2,figsize=(14, 30), dpi=100)\n",
    "for i in range(16):\n",
    "    if i == 8 or i == 5:\n",
    "        continue\n",
    "    train[train['site_id'] == i][['timestamp', 'meter_reading']].set_index('timestamp').resample('H').mean()['meter_reading'].plot(ax=axes[i%8][i//8], alpha=0.8, label='Por hora', color='tab:blue').set_ylabel('Lectura promedio de medidor', fontsize=13);\n",
    "    train[train['site_id'] == i][['timestamp', 'meter_reading']].set_index('timestamp').resample('D').mean()['meter_reading'].plot(ax=axes[i%8][i//8], alpha=1, label='Por dia', color='tab:orange').set_xlabel('');\n",
    "    axes[i%8][i//8].legend();\n",
    "    axes[i%8][i//8].set_title('site_id {}'.format(i), fontsize=13);\n",
    "    plt.subplots_adjust(hspace=0.45)"
   ]
  },
  {
   "cell_type": "markdown",
   "metadata": {},
   "source": [
    "## Generacion de .csv, train sin outliers, y test"
   ]
  },
  {
   "cell_type": "code",
   "execution_count": null,
   "metadata": {},
   "outputs": [],
   "source": [
    "train.to_csv('../Data/trainv2.csv') "
   ]
  },
  {
   "cell_type": "code",
   "execution_count": null,
   "metadata": {},
   "outputs": [],
   "source": [
    "test.to_csv('../Data/test.csv') "
   ]
  },
  {
   "cell_type": "markdown",
   "metadata": {},
   "source": [
    " \n",
    " \n",
    " \n",
    "[volver a TOC](#section_toc)\n"
   ]
  }
 ],
 "metadata": {
  "kernelspec": {
   "display_name": "Python 3",
   "language": "python",
   "name": "python3"
  },
  "language_info": {
   "codemirror_mode": {
    "name": "ipython",
    "version": 3
   },
   "file_extension": ".py",
   "mimetype": "text/x-python",
   "name": "python",
   "nbconvert_exporter": "python",
   "pygments_lexer": "ipython3",
   "version": "3.7.9"
  }
 },
 "nbformat": 4,
 "nbformat_minor": 4
}
